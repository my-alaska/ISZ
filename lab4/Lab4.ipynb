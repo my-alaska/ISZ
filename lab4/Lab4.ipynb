{
 "cells": [
  {
   "cell_type": "markdown",
   "id": "1929d4dd-e29b-4cf8-bf81-1c224d7d17aa",
   "metadata": {},
   "source": [
    "# SPH\n",
    "\n",
    "Create Your Own Smoothed-Particle-Hydrodynamics Simulation (With Python)\n",
    "Philip Mocz (2020) Princeton Univeristy, @PMocz\n",
    "\n",
    "Simulate the structure of a star with SPH"
   ]
  },
  {
   "cell_type": "code",
   "execution_count": 17,
   "id": "7b220da5-e35c-410f-9832-b9b75d7ae498",
   "metadata": {
    "ExecuteTime": {
     "end_time": "2024-12-02T21:01:14.880067200Z",
     "start_time": "2024-12-02T21:01:14.834605300Z"
    }
   },
   "outputs": [],
   "source": [
    "import numpy as np\n",
    "import matplotlib.pyplot as plt\n",
    "from scipy.special import gamma"
   ]
  },
  {
   "cell_type": "markdown",
   "id": "41e782a0-7898-440a-8a31-e755a88c30b2",
   "metadata": {},
   "source": [
    "---\n",
    "\n",
    "### Gausssian Smoothing kernel (3D)\n",
    "\n",
    "- x     is a vector/matrix of x positions\n",
    "- y     is a vector/matrix of y positions\n",
    "- z     is a vector/matrix of z positions\n",
    "- h     is the smoothing length\n",
    "- w     is the evaluated smoothing function"
   ]
  },
  {
   "cell_type": "code",
   "execution_count": 60,
   "id": "ffcc2bf8-8336-4970-81c9-06603b0a0e9a",
   "metadata": {
    "ExecuteTime": {
     "end_time": "2024-12-02T21:29:42.099685300Z",
     "start_time": "2024-12-02T21:29:42.085985200Z"
    }
   },
   "outputs": [],
   "source": [
    "def W_gaussian(x, y, z, h):\n",
    "    r = np.sqrt(x**2 + y**2 + z**2)\n",
    "    \n",
    "    w = (1.0 / (h * np.sqrt(np.pi))) ** 3 * np.exp(-(r**2) / h**2)\n",
    "    return w"
   ]
  },
  {
   "cell_type": "markdown",
   "id": "6787fa79-b000-45a6-a091-d831f1eef165",
   "metadata": {},
   "source": [
    "---\n",
    "\n",
    "### Gradient of the Gausssian Smoothing kernel (3D)\n",
    "\n",
    "- x     is a vector/matrix of x positions\n",
    "- y     is a vector/matrix of y positions\n",
    "- z     is a vector/matrix of z positions\n",
    "- h     is the smoothing length\n",
    "- wx, wy, wz     is the evaluated gradient"
   ]
  },
  {
   "cell_type": "code",
   "execution_count": 93,
   "id": "4e025535-4529-4aca-84c7-086ef21cf940",
   "metadata": {
    "ExecuteTime": {
     "end_time": "2024-12-02T21:39:27.209334400Z",
     "start_time": "2024-12-02T21:39:27.204816Z"
    }
   },
   "outputs": [],
   "source": [
    "def grad_W_gaussian(x, y, z, h):\n",
    "    r = np.sqrt(x**2 + y**2 + z**2)\n",
    "    print(r)\n",
    "    print()\n",
    "\n",
    "    n = -2 * np.exp(-(r**2) / h**2) / h**5 / (np.pi) ** (3 / 2)\n",
    "    wx = n * x\n",
    "    wy = n * y\n",
    "    wz = n * z\n",
    "    \n",
    "    print(n)\n",
    "    print()\n",
    "    \n",
    "    print(wx)\n",
    "    print(wy)\n",
    "    print(wz)\n",
    "\n",
    "    return wx, wy, wz"
   ]
  },
  {
   "cell_type": "markdown",
   "id": "dad241d0-b703-48eb-b3ce-d89d57eca1ab",
   "metadata": {},
   "source": [
    "---\n",
    "\n",
    "### Get pairwise desprations between 2 sets of coordinates\n",
    "\n",
    "- ri    is an M x 3 matrix of positions\n",
    "- rj    is an N x 3 matrix of positions\n",
    "- dx, dy, dz   are M x N matrices of separations"
   ]
  },
  {
   "cell_type": "code",
   "execution_count": 20,
   "id": "a1b5445f-3dee-4b7a-a9d2-32ea576e0cf2",
   "metadata": {
    "ExecuteTime": {
     "end_time": "2024-12-02T21:01:14.909081300Z",
     "start_time": "2024-12-02T21:01:14.846053400Z"
    }
   },
   "outputs": [],
   "source": [
    "def getPairwiseSeparations(ri, rj):\n",
    "\n",
    "    M = ri.shape[0]\n",
    "    N = rj.shape[0]\n",
    "\n",
    "    # positions ri = (x,y,z)\n",
    "    rix = ri[:, 0].reshape((M, 1))\n",
    "    riy = ri[:, 1].reshape((M, 1))\n",
    "    riz = ri[:, 2].reshape((M, 1))\n",
    "\n",
    "    # other set of points positions rj = (x,y,z)\n",
    "    rjx = rj[:, 0].reshape((N, 1))\n",
    "    rjy = rj[:, 1].reshape((N, 1))\n",
    "    rjz = rj[:, 2].reshape((N, 1))\n",
    "\n",
    "    # matrices that store all pairwise particle separations: r_i - r_j\n",
    "    dx = rix - rjx.T\n",
    "    dy = riy - rjy.T\n",
    "    dz = riz - rjz.T\n",
    "\n",
    "    return dx, dy, dz"
   ]
  },
  {
   "cell_type": "markdown",
   "id": "139e5b0c-ef3f-4be4-9a3f-985b990c56c5",
   "metadata": {},
   "source": [
    "---\n",
    "\n",
    "### Get Density at sampling loctions from SPH particle distribution\n",
    "\n",
    "- r     is an M x 3 matrix of sampling locations\n",
    "- pos   is an N x 3 matrix of SPH particle positions\n",
    "- m     is the particle mass\n",
    "- h     is the smoothing length\n",
    "- rho   is M x 1 vector of densities"
   ]
  },
  {
   "cell_type": "code",
   "execution_count": 21,
   "id": "4f673b42-f885-4081-81e7-10c81c9c942a",
   "metadata": {
    "ExecuteTime": {
     "end_time": "2024-12-02T21:01:14.913090600Z",
     "start_time": "2024-12-02T21:01:14.849025400Z"
    }
   },
   "outputs": [],
   "source": [
    "def getDensity(r, pos, m, h, W):\n",
    "    M = r.shape[0]\n",
    "    dx, dy, dz = getPairwiseSeparations(r, pos)\n",
    "    rho = np.sum(m * W(dx, dy, dz, h), 1).reshape((M, 1))\n",
    "    return rho"
   ]
  },
  {
   "cell_type": "markdown",
   "id": "441d2a1d-4976-46a3-994d-28c8748d31e9",
   "metadata": {},
   "source": [
    "---\n",
    "\n",
    "### Equation of State\n",
    "\n",
    "- rho   vector of densities\n",
    "- k     equation of state constant\n",
    "- n     polytropic index\n",
    "- P     pressure"
   ]
  },
  {
   "cell_type": "code",
   "execution_count": 22,
   "id": "efee4a98-00a3-4e2d-8350-eb9096caf9e8",
   "metadata": {
    "ExecuteTime": {
     "end_time": "2024-12-02T21:01:14.915088500Z",
     "start_time": "2024-12-02T21:01:14.854386100Z"
    }
   },
   "outputs": [],
   "source": [
    "def getPressure(rho, k, n):\n",
    "    P = k * rho ** (1 + 1 / n)\n",
    "    return P"
   ]
  },
  {
   "cell_type": "markdown",
   "id": "d6abeba1-23e3-4acd-a68a-ef79a6ee7a1c",
   "metadata": {},
   "source": [
    "---\n",
    "\n",
    "### Calculate the acceleration on each SPH particle\n",
    "\n",
    "- pos   is an N x 3 matrix of positions\n",
    "- vel   is an N x 3 matrix of velocities\n",
    "- m     is the particle mass\n",
    "- h     is the smoothing length\n",
    "- k     equation of state constant\n",
    "- n     polytropic index\n",
    "- mbda external force constant\n",
    "- nu    viscosity\n",
    "- a     is N x 3 matrix of accelerations"
   ]
  },
  {
   "cell_type": "code",
   "execution_count": 23,
   "id": "b43f6559-0136-4bff-a503-c0aa0701cf48",
   "metadata": {
    "ExecuteTime": {
     "end_time": "2024-12-02T21:01:14.928089400Z",
     "start_time": "2024-12-02T21:01:14.855899800Z"
    }
   },
   "outputs": [],
   "source": [
    "def getAcc(pos, vel, m, h, k, n, lmbda, nu, kernel, grad_kernel):\n",
    "    N = pos.shape[0]\n",
    "\n",
    "    # Calculate densities at the position of the particles\n",
    "    rho = getDensity(pos, pos, m, h, kernel)\n",
    "\n",
    "    # Get the pressures\n",
    "    P = getPressure(rho, k, n)\n",
    "\n",
    "    # Get pairwise distances and gradients\n",
    "    dx, dy, dz = getPairwiseSeparations(pos, pos)\n",
    "    dWx, dWy, dWz = grad_kernel(dx, dy, dz, h)\n",
    "\n",
    "    # Add Pressure contribution to accelerations\n",
    "    ax = -np.sum(m * (P / rho**2 + P.T / rho.T**2) * dWx, 1).reshape((N, 1))\n",
    "    ay = -np.sum(m * (P / rho**2 + P.T / rho.T**2) * dWy, 1).reshape((N, 1))\n",
    "    az = -np.sum(m * (P / rho**2 + P.T / rho.T**2) * dWz, 1).reshape((N, 1))\n",
    "\n",
    "    # pack together the acceleration components\n",
    "    a = np.hstack((ax, ay, az))\n",
    "\n",
    "    # Add external potential force\n",
    "    a -= lmbda * pos\n",
    "\n",
    "    # Add viscosity\n",
    "    a -= nu * vel\n",
    "\n",
    "    return a"
   ]
  },
  {
   "cell_type": "markdown",
   "id": "043379cf-a40e-4d85-91a7-3cb70b8f8b62",
   "metadata": {},
   "source": [
    "---\n",
    "\n",
    "# SPH simulation\n",
    "\n",
    "### Simulation plotting\n"
   ]
  },
  {
   "cell_type": "code",
   "execution_count": 24,
   "id": "30bd744d-c949-4f04-abf0-f611234f1515",
   "metadata": {
    "ExecuteTime": {
     "end_time": "2024-12-02T21:01:14.953089200Z",
     "start_time": "2024-12-02T21:01:14.860255400Z"
    }
   },
   "outputs": [],
   "source": [
    "def plot_system(rho, pos, lmbda, m, R, h, k, save_path, kernel):\n",
    "    # prep figure\n",
    "    fig = plt.figure(figsize=(4, 5), dpi=80)\n",
    "    grid = plt.GridSpec(3, 1, wspace=0.0, hspace=0.3)\n",
    "    ax1 = plt.subplot(grid[0:2, 0])\n",
    "    ax2 = plt.subplot(grid[2, 0])\n",
    "    rr = np.zeros((100, 3))\n",
    "    rlin = np.linspace(0, 1, 100)\n",
    "    rr[:, 0] = rlin\n",
    "    rho_analytic = lmbda / (4 * k) * (R**2 - rlin**2)\n",
    "    \n",
    "    plt.sca(ax1)\n",
    "    plt.cla()\n",
    "    cval = np.minimum((rho - 3) / 3, 1).flatten()\n",
    "    plt.scatter(pos[:, 0], pos[:, 1], c=cval, cmap=plt.cm.autumn, s=3, alpha=0.5)\n",
    "    ax1.set(xlim=(-2.8, 2.8), ylim=(-2.4, 2.4))\n",
    "    ax1.set_aspect(\"equal\", \"box\")\n",
    "    ax1.set_facecolor(\"black\")\n",
    "    ax1.set_facecolor((0.1, 0.1, 0.1))\n",
    "\n",
    "    plt.sca(ax2)\n",
    "    plt.cla()\n",
    "    ax2.set(xlim=(0, 1), ylim=(0, 3))\n",
    "    ax2.set_aspect(0.1)\n",
    "    plt.plot(rlin, rho_analytic, color=\"gray\", linewidth=2)\n",
    "    rho_radial = getDensity(rr, pos, m, h, kernel)\n",
    "    plt.plot(rlin, rho_radial, color=\"blue\")\n",
    "    plt.savefig(save_path, dpi=240)\n",
    "    plt.close()"
   ]
  },
  {
   "cell_type": "markdown",
   "id": "63809c59-0527-4e30-a19d-90d2b85e0a02",
   "metadata": {},
   "source": [
    "---\n",
    "\n",
    "### Simulation Main Loop"
   ]
  },
  {
   "cell_type": "code",
   "execution_count": 94,
   "id": "701629f4-d94c-4206-b027-7ef17c6d544c",
   "metadata": {
    "ExecuteTime": {
     "end_time": "2024-12-02T21:39:32.536471700Z",
     "start_time": "2024-12-02T21:39:32.521459100Z"
    }
   },
   "outputs": [],
   "source": [
    "from pathlib import Path\n",
    "from tqdm import tqdm\n",
    "import imageio.v2 as imageio\n",
    "\n",
    "def run_simulation(\n",
    "        plot_name,\n",
    "        pos,\n",
    "        vel,\n",
    "        t,  # current time of the simulation\n",
    "        tEnd,  # time at which simulation ends\n",
    "        dt,  # timestep\n",
    "        M,  # star mass\n",
    "        R,  # star radius\n",
    "        h,  # smoothing length\n",
    "        k,  # equation of state constant\n",
    "        n,  # polytropic index\n",
    "        nu,  # damping\n",
    "        kernel,\n",
    "        grad_kernel,\n",
    "        only_one = False\n",
    "):\n",
    "    N = pos.shape[0]\n",
    "    \n",
    "    save_path = Path(\"plots\")\n",
    "    save_path.mkdir(exist_ok=True, parents=True)\n",
    "\n",
    "    lmbda = (\n",
    "        (2 * k * (1 + n))\n",
    "        * (np.pi ** (-3 / (2 * n)))\n",
    "        * (M * gamma(5 / 2 + n) / R**3 / gamma(1 + n)) ** (1 / n)\n",
    "        / R**2\n",
    "    )\n",
    "   \n",
    "    m = M / N # single particle mass\n",
    "    acc = getAcc(pos, vel, m, h, k, n, lmbda, nu, kernel, grad_kernel) # calculate initial gravitational accelerations\n",
    "    Nt = int(np.ceil(tEnd / dt)) # number of timesteps \n",
    "    \n",
    "    for i in tqdm(range(Nt)):\n",
    "        if only_one:\n",
    "            return None, None\n",
    "        \n",
    "        vel += acc * dt / 2 # (1/2) kick\n",
    "        pos += vel * dt # drift\n",
    "        acc = getAcc(pos, vel, m, h, k, n, lmbda, nu, kernel, grad_kernel) # update accelerations\n",
    "        vel += acc * dt / 2 # (1/2) kick\n",
    "        t += dt # update time\n",
    "        rho = getDensity(pos, pos, m, h, kernel) # get density for plotting\n",
    "\n",
    "        plot_system(rho, pos, lmbda, m, R, h, k, save_path / f\"{plot_name}_{i}.png\", kernel)\n",
    "    \n",
    "    ims = [imageio.imread(save_path / f\"{plot_name}_{i}.png\") for i in tqdm(range(Nt))]\n",
    "    imageio.mimwrite(f\"{plot_name}.gif\", ims)\n",
    "    \n",
    "    return pos, vel"
   ]
  },
  {
   "cell_type": "code",
   "execution_count": 95,
   "id": "095f6782-315f-4076-9f7a-2e710c8568d0",
   "metadata": {
    "ExecuteTime": {
     "end_time": "2024-12-02T21:39:32.748973900Z",
     "start_time": "2024-12-02T21:39:32.746126700Z"
    }
   },
   "outputs": [],
   "source": [
    "# set the random number generator seed\n",
    "np.random.seed(42)"
   ]
  },
  {
   "cell_type": "code",
   "execution_count": 96,
   "id": "de3b1412-3d17-4f3d-9d9c-38a550b62d78",
   "metadata": {
    "ExecuteTime": {
     "end_time": "2024-12-02T21:39:33.131099400Z",
     "start_time": "2024-12-02T21:39:33.095225500Z"
    }
   },
   "outputs": [
    {
     "name": "stdout",
     "output_type": "stream",
     "text": [
      "[[0.         1.3565157  1.80004086 ... 1.91666249 2.26873144 0.8047282 ]\n",
      " [1.3565157  0.         1.03039748 ... 2.93333219 3.19542423 1.92516601]\n",
      " [1.80004086 1.03039748 0.         ... 3.31413683 3.22058227 2.17064916]\n",
      " ...\n",
      " [1.91666249 2.93333219 3.31413683 ... 0.         1.12592444 2.30883417]\n",
      " [2.26873144 3.19542423 3.22058227 ... 1.12592444 0.         2.56219455]\n",
      " [0.8047282  1.92516601 2.17064916 ... 2.30883417 2.56219455 0.        ]]\n",
      "\n",
      "[[-3.59174244e+004 -4.35777134e-076 -6.87868080e-137 ... -1.03061600e-155\n",
      "  -1.04172347e-219 -2.69735811e-024]\n",
      " [-4.35777134e-076 -3.59174244e+004 -2.78892356e-042 ... -0.00000000e+000\n",
      "  -0.00000000e+000 -3.92914744e-157]\n",
      " [-6.87868080e-137 -2.78892356e-042 -3.59174244e+004 ... -0.00000000e+000\n",
      "  -0.00000000e+000 -8.47232627e-201]\n",
      " ...\n",
      " [-1.03061600e-155 -0.00000000e+000 -0.00000000e+000 ... -3.59174244e+004\n",
      "  -3.15892666e-051 -1.10990206e-227]\n",
      " [-1.04172347e-219 -0.00000000e+000 -0.00000000e+000 ... -3.15892666e-051\n",
      "  -3.59174244e+004 -2.80469621e-281]\n",
      " [-2.69735811e-024 -3.92914744e-157 -8.47232627e-201 ... -1.10990206e-227\n",
      "  -2.80469621e-281 -3.59174244e+004]]\n",
      "\n",
      "[[-0.00000000e+000  4.47244916e-076  7.44616277e-137 ... -1.88678957e-155\n",
      "  -2.17689775e-219  1.50447310e-025]\n",
      " [-4.47244916e-076 -0.00000000e+000  1.56689979e-043 ... -0.00000000e+000\n",
      "  -0.00000000e+000 -3.81339437e-157]\n",
      " [-7.44616277e-137 -1.56689979e-043 -0.00000000e+000 ... -0.00000000e+000\n",
      "  -0.00000000e+000 -8.69873107e-201]\n",
      " ...\n",
      " [ 1.88678957e-155  0.00000000e+000  0.00000000e+000 ... -0.00000000e+000\n",
      "  -8.18061672e-052  2.09384738e-227]\n",
      " [ 2.17689775e-219  0.00000000e+000  0.00000000e+000 ...  8.18061672e-052\n",
      "  -0.00000000e+000  6.01742996e-281]\n",
      " [-1.50447310e-025  3.81339437e-157  8.69873107e-201 ... -2.09384738e-227\n",
      "  -6.01742996e-281 -0.00000000e+000]]\n",
      "[[-0.00000000e+000 -4.17862656e-077  6.23001453e-137 ... -4.77281714e-156\n",
      "   6.02886040e-220  9.76924938e-025]\n",
      " [ 4.17862656e-077 -0.00000000e+000  2.79335267e-042 ... -0.00000000e+000\n",
      "   0.00000000e+000  1.79981478e-157]\n",
      " [-6.23001453e-137 -2.79335267e-042 -0.00000000e+000 ... -0.00000000e+000\n",
      "  -0.00000000e+000 -4.60488382e-201]\n",
      " ...\n",
      " [ 4.77281714e-156  0.00000000e+000  0.00000000e+000 ... -0.00000000e+000\n",
      "   3.29110367e-051  9.15981943e-228]\n",
      " [-6.02886040e-220 -0.00000000e+000  0.00000000e+000 ... -3.29110367e-051\n",
      "  -0.00000000e+000 -6.07386704e-282]\n",
      " [-9.76924938e-025 -1.79981478e-157  4.60488382e-201 ... -9.15981943e-228\n",
      "   6.07386704e-282 -0.00000000e+000]]\n",
      "[[-0.00000000e+000 -3.84279387e-076 -7.68460716e-137 ... -3.37945792e-156\n",
      "  -6.95169507e-220  1.93252732e-024]\n",
      " [ 3.84279387e-076 -0.00000000e+000 -6.56338101e-043 ...  0.00000000e+000\n",
      "   0.00000000e+000  6.27986750e-157]\n",
      " [ 7.68460716e-137  6.56338101e-043 -0.00000000e+000 ...  0.00000000e+000\n",
      "   0.00000000e+000  1.55349830e-200]\n",
      " ...\n",
      " [ 3.37945792e-156 -0.00000000e+000 -0.00000000e+000 ... -0.00000000e+000\n",
      "  -1.07220204e-051  1.15913564e-227]\n",
      " [ 6.95169507e-220 -0.00000000e+000 -0.00000000e+000 ...  1.07220204e-051\n",
      "  -0.00000000e+000  3.88107755e-281]\n",
      " [-1.93252732e-024 -6.27986750e-157 -1.55349830e-200 ... -1.15913564e-227\n",
      "  -3.88107755e-281 -0.00000000e+000]]\n"
     ]
    },
    {
     "name": "stderr",
     "output_type": "stream",
     "text": [
      "  0%|          | 0/300 [00:00<?, ?it/s]\n"
     ]
    }
   ],
   "source": [
    "N = 400  # Number of particles\n",
    "pos = np.random.randn(N, 3)\n",
    "# vel = np.zeros(pos.shape)\n",
    "vel = np.random.randn(N, 3)\n",
    "\n",
    "pos, vel = run_simulation(\n",
    "    \"gaussian\",\n",
    "    pos,\n",
    "    vel, \n",
    "    t = 0,  # current time of the simulation\n",
    "    tEnd = 12,  # time at which simulation ends\n",
    "    dt = 0.04,  # timestep\n",
    "    M = 2,  # star mass\n",
    "    R = 0.75,  # star radius\n",
    "    h = 0.1,  # smoothing length\n",
    "    k = 0.1,  # equation of state constant\n",
    "    n = 1,  # polytropic index\n",
    "    nu = 0.75,  # damping\n",
    "    kernel=W_gaussian,\n",
    "    grad_kernel=grad_W_gaussian,\n",
    "    only_one=True\n",
    ")                    "
   ]
  },
  {
   "cell_type": "code",
   "execution_count": 28,
   "outputs": [
    {
     "name": "stderr",
     "output_type": "stream",
     "text": [
      "100%|██████████| 600/600 [01:54<00:00,  5.23it/s]\n",
      "100%|██████████| 600/600 [00:12<00:00, 47.34it/s]\n"
     ]
    }
   ],
   "source": [
    "pos2 = np.concatenate([pos + (1,1,0), pos+(-1,-1,0)])\n",
    "vel2 = np.concatenate([vel+(-3,-1,0), vel+(3,1,0)])\n",
    "\n",
    "pos2 += np.random.normal(size = pos2.shape) * 0.01\n",
    "vel2 += np.random.normal(size = pos2.shape) * 0.1\n",
    "\n",
    "pos3, vel3 = run_simulation(\n",
    "    \"gaussian_2_stars\",\n",
    "    pos2,\n",
    "    vel2, \n",
    "    t = 0,  # current time of the simulation\n",
    "    tEnd = 24,  # time at which simulation ends\n",
    "    dt = 0.04,  # timestep\n",
    "    M = 3,  # star mass\n",
    "    R = 0.75,  # star radius\n",
    "    h = 0.1,  # smoothing length\n",
    "    k = 0.1,  # equation of state constant\n",
    "    n = 0.75,  # polytropic index\n",
    "    nu = 0.3,  # damping\n",
    "    kernel=W_gaussian,\n",
    "    grad_kernel=grad_W_gaussian\n",
    ")       "
   ],
   "metadata": {
    "collapsed": false,
    "ExecuteTime": {
     "end_time": "2024-12-02T21:05:03.594291200Z",
     "start_time": "2024-12-02T21:02:26.847402800Z"
    }
   },
   "id": "c512079ee8e363f"
  },
  {
   "cell_type": "markdown",
   "source": [
    "---\n",
    "\n",
    "### Different kernels"
   ],
   "metadata": {
    "collapsed": false
   },
   "id": "a951a31d49ecbb1d"
  },
  {
   "cell_type": "code",
   "execution_count": 101,
   "outputs": [],
   "source": [
    "# Cubic Spline Kernel and its derivative\n",
    "def cubic_spline(x,y,z, h):\n",
    "    r = np.sqrt(x**2 + y**2 + z**2)\n",
    "    q = r / h\n",
    "    \n",
    "    result = np.zeros(shape=r.shape)\n",
    "    \n",
    "    r_1h = (1 - 1.5 * q**2 + 0.75 * q**3) / (h**3 * np.pi)\n",
    "    r_1h_mask = r <= h\n",
    "    \n",
    "    r_2h = (2 - q)**3 / (4 * h**3 * np.pi)\n",
    "    r_2h_mask = (r > h) & (r <= 2*h)\n",
    "    \n",
    "    result[r_1h_mask] = r_1h[r_1h_mask]\n",
    "    result[r_2h_mask] = r_2h[r_2h_mask] \n",
    "    \n",
    "    return result\n",
    "\n",
    "def cubic_spline_derivative(x,y,z, h):\n",
    "    r = np.sqrt(x**2 + y**2 + z**2)\n",
    "    q = r / h\n",
    "    \n",
    "    n = np.zeros(shape=r.shape)\n",
    "    \n",
    "    r_1h = (-12 * q + 9 * q**2) / (4 * h**4 * np.pi)\n",
    "    r_1h_mask = r <= h\n",
    "    \n",
    "    r_2h = -3 * (2 - q)**2 / (4 * h**4 * np.pi)\n",
    "    r_2h_mask = (r > h) & (r <= 2*h)\n",
    "    \n",
    "    n[r_1h_mask] = r_1h[r_1h_mask]\n",
    "    n[r_2h_mask] = r_2h[r_2h_mask] \n",
    "    \n",
    "    np.fill_diagonal(r,1)\n",
    "    \n",
    "    wx = n * x / r\n",
    "    wy = n * y / r\n",
    "    wz = n * z / r\n",
    "\n",
    "    \n",
    "    return wx, wy, wz"
   ],
   "metadata": {
    "collapsed": false,
    "ExecuteTime": {
     "end_time": "2024-12-02T21:41:38.147931Z",
     "start_time": "2024-12-02T21:41:38.127932600Z"
    }
   },
   "id": "f2f31c7dec6b360f"
  },
  {
   "cell_type": "code",
   "execution_count": 105,
   "outputs": [
    {
     "name": "stderr",
     "output_type": "stream",
     "text": [
      "100%|██████████| 300/300 [00:38<00:00,  7.82it/s]\n",
      "100%|██████████| 300/300 [00:03<00:00, 76.83it/s]\n"
     ]
    }
   ],
   "source": [
    "N = 400  # Number of particles\n",
    "pos = np.random.randn(N, 3)\n",
    "# vel = np.zeros(pos.shape)\n",
    "vel = np.random.randn(N, 3)\n",
    "\n",
    "pos, vel = run_simulation(\n",
    "    \"cubic_spline\",\n",
    "    pos,\n",
    "    vel, \n",
    "    t = 0,  # current time of the simulation\n",
    "    tEnd = 12,  # time at which simulation ends\n",
    "    dt = 0.04,  # timestep\n",
    "    M = 2,  # star mass\n",
    "    R = 0.75,  # star radius\n",
    "    h = 0.1,  # smoothing length\n",
    "    k = 0.1,  # equation of state constant\n",
    "    n = 1,  # polytropic index\n",
    "    nu = 1,  # damping\n",
    "    kernel=cubic_spline,\n",
    "    grad_kernel=cubic_spline_derivative,\n",
    ")"
   ],
   "metadata": {
    "collapsed": false,
    "ExecuteTime": {
     "end_time": "2024-12-02T21:43:12.866276700Z",
     "start_time": "2024-12-02T21:42:21.022957Z"
    }
   },
   "id": "62e8d8493963987c"
  },
  {
   "cell_type": "code",
   "execution_count": null,
   "outputs": [],
   "source": [
    "pos2 = np.concatenate([pos + (1,1,0), pos+(-1,-1,0)])\n",
    "vel2 = np.concatenate([vel+(-3,-1,0), vel+(3,1,0)])\n",
    "\n",
    "pos2 += np.random.normal(size = pos2.shape) * 0.01\n",
    "vel2 += np.random.normal(size = pos2.shape) * 0.1\n",
    "\n",
    "pos3, vel3 = run_simulation(\n",
    "    \"cubic_spline_2_stars\",\n",
    "    pos2,\n",
    "    vel2, \n",
    "    t = 0,  # current time of the simulation\n",
    "    tEnd = 24,  # time at which simulation ends\n",
    "    dt = 0.04,  # timestep\n",
    "    M = 3,  # star mass\n",
    "    R = 0.75,  # star radius\n",
    "    h = 0.1,  # smoothing length\n",
    "    k = 0.1,  # equation of state constant\n",
    "    n = 0.75,  # polytropic index\n",
    "    nu = 0.3,  # damping\n",
    "    kernel=cubic_spline,\n",
    "    grad_kernel=cubic_spline_derivative\n",
    ")  "
   ],
   "metadata": {
    "collapsed": false
   },
   "id": "687243530e3ee650"
  },
  {
   "cell_type": "code",
   "execution_count": 106,
   "outputs": [],
   "source": [
    "# Poly6 Kernel and its derivative\n",
    "def poly6(x,y,z, h):\n",
    "    r = np.sqrt(x**2 + y**2 + z**2)\n",
    "    \n",
    "    result = np.zeros(shape=r.shape)\n",
    "    \n",
    "    r_h = 315 * (h**2 - r**2)**3 / (64 * np.pi * h**9)\n",
    "    r_h_mask = r <= h\n",
    "    \n",
    "    result[r_h_mask] = r_h[r_h_mask]\n",
    "    \n",
    "    return result\n",
    "\n",
    "def poly6_derivative(x,y,z, h):\n",
    "    r = np.sqrt(x**2 + y**2 + z**2)\n",
    "    \n",
    "    n = np.zeros(shape=r.shape)\n",
    "    \n",
    "    r_h = -6 * 315 * r * (h**2 - r**2)**2 / (64 * np.pi * h**9)\n",
    "    r_h_mask = r <= h\n",
    "    \n",
    "    n[r_h_mask] = r_h[r_h_mask]\n",
    "    \n",
    "    np.fill_diagonal(r,1)\n",
    "    \n",
    "    wx = n * x / r\n",
    "    wy = n * y / r\n",
    "    wz = n * z / r\n",
    "\n",
    "    return wx, wy, wz"
   ],
   "metadata": {
    "collapsed": false,
    "ExecuteTime": {
     "end_time": "2024-12-02T21:45:01.161210600Z",
     "start_time": "2024-12-02T21:45:01.133850100Z"
    }
   },
   "id": "2056084f903d5e7f"
  },
  {
   "cell_type": "code",
   "execution_count": 114,
   "outputs": [
    {
     "name": "stderr",
     "output_type": "stream",
     "text": [
      "100%|██████████| 300/300 [00:41<00:00,  7.24it/s]\n",
      "100%|██████████| 300/300 [00:03<00:00, 95.85it/s] \n"
     ]
    }
   ],
   "source": [
    "N = 400  # Number of particles\n",
    "pos = np.random.randn(N, 3)\n",
    "# vel = np.zeros(pos.shape)\n",
    "vel = np.random.randn(N, 3)\n",
    "\n",
    "pos, vel = run_simulation(\n",
    "    \"poly6\",\n",
    "    pos,\n",
    "    vel, \n",
    "    t = 0,  # current time of the simulation\n",
    "    tEnd = 12,  # time at which simulation ends\n",
    "    dt = 0.04,  # timestep\n",
    "    M = 2,  # star mass\n",
    "    R = 0.75,  # star radius\n",
    "    h = 0.1,  # smoothing length\n",
    "    k = 0.1,  # equation of state constant\n",
    "    n = 1,  # polytropic index\n",
    "    nu = 1,  # damping\n",
    "    kernel=poly6,\n",
    "    grad_kernel=poly6_derivative\n",
    ")\n",
    "\n"
   ],
   "metadata": {
    "collapsed": false,
    "ExecuteTime": {
     "end_time": "2024-12-02T21:50:21.778411600Z",
     "start_time": "2024-12-02T21:49:27.239554300Z"
    }
   },
   "id": "fadc8b3b033ee564"
  },
  {
   "cell_type": "code",
   "execution_count": null,
   "outputs": [],
   "source": [
    "pos2 = np.concatenate([pos + (1,1,0), pos+(-1,-1,0)])\n",
    "vel2 = np.concatenate([vel+(-3,-1,0), vel+(3,1,0)])\n",
    "\n",
    "pos2 += np.random.normal(size = pos2.shape) * 0.01\n",
    "vel2 += np.random.normal(size = pos2.shape) * 0.1\n",
    "\n",
    "pos3, vel3 = run_simulation(\n",
    "    \"poly6_2_stars\",\n",
    "    pos2,\n",
    "    vel2, \n",
    "    t = 0,  # current time of the simulation\n",
    "    tEnd = 24,  # time at which simulation ends\n",
    "    dt = 0.04,  # timestep\n",
    "    M = 2,  # star mass\n",
    "    R = 0.75,  # star radius\n",
    "    h = 0.1,  # smoothing length\n",
    "    k = 0.1,  # equation of state constant\n",
    "    n = 0.75,  # polytropic index\n",
    "    nu = 1,  # damping\n",
    "    kernel=poly6,\n",
    "    grad_kernel=poly6_derivative\n",
    ")   "
   ],
   "metadata": {
    "collapsed": false
   },
   "id": "ba11733fd56bc3b9"
  },
  {
   "cell_type": "code",
   "execution_count": 112,
   "outputs": [],
   "source": [
    "# Spiky Kernel and its derivative\n",
    "def spiky(x,y,z, h):\n",
    "    r = np.sqrt(x**2 + y**2 + z**2)\n",
    "    \n",
    "    result = np.zeros(shape=r.shape)\n",
    "    \n",
    "    r_h = 15 * (h - r)**3 / (np.pi * h**6)\n",
    "    r_h_mask = r <= h\n",
    "    \n",
    "    result[r_h_mask] = r_h[r_h_mask]\n",
    "    \n",
    "    return result\n",
    "\n",
    "def spiky_derivative(x,y,z, h):\n",
    "    r = np.sqrt(x**2 + y**2 + z**2)\n",
    "    \n",
    "    n = np.zeros(shape=r.shape)\n",
    "    \n",
    "    r_h = -45 * r * (h - r)**2  / (np.pi * h**6)\n",
    "    r_h_mask = r <= h\n",
    "    \n",
    "    n[r_h_mask] = r_h[r_h_mask]\n",
    "    \n",
    "    np.fill_diagonal(r,1)\n",
    "    \n",
    "    wx = n * x / r\n",
    "    wy = n * y / r\n",
    "    wz = n * z / r\n",
    "\n",
    "    return wx, wy, wz"
   ],
   "metadata": {
    "collapsed": false,
    "ExecuteTime": {
     "end_time": "2024-12-02T21:48:35.075429500Z",
     "start_time": "2024-12-02T21:48:35.065421600Z"
    }
   },
   "id": "382d25454f37ee79"
  },
  {
   "cell_type": "code",
   "execution_count": 122,
   "outputs": [
    {
     "name": "stderr",
     "output_type": "stream",
     "text": [
      "100%|██████████| 300/300 [00:56<00:00,  5.32it/s]\n",
      "100%|██████████| 300/300 [00:02<00:00, 106.87it/s]\n"
     ]
    }
   ],
   "source": [
    "N = 800  # Number of particles\n",
    "pos = np.random.randn(N, 3)\n",
    "# vel = np.zeros(pos.shape)\n",
    "vel = np.random.randn(N, 3)\n",
    "\n",
    "pos, vel = run_simulation(\n",
    "    \"spiky\",\n",
    "    pos,\n",
    "    vel, \n",
    "    t = 0,  # current time of the simulation\n",
    "    tEnd = 12,  # time at which simulation ends\n",
    "    dt = 0.04,  # timestep\n",
    "    M = 10,  # star mass\n",
    "    R = 1,  # star radius\n",
    "    h = 0.1,  # smoothing length\n",
    "    k = 0.1,  # equation of state constant\n",
    "    n = 0.75,  # polytropic index\n",
    "    nu = 2,  # damping\n",
    "    kernel=spiky,\n",
    "    grad_kernel=spiky_derivative\n",
    ")     "
   ],
   "metadata": {
    "collapsed": false,
    "ExecuteTime": {
     "end_time": "2024-12-02T21:57:14.578343900Z",
     "start_time": "2024-12-02T21:56:03.874736Z"
    }
   },
   "id": "f77c4b0317c7255a"
  },
  {
   "cell_type": "code",
   "execution_count": null,
   "outputs": [],
   "source": [
    "pos2 = np.concatenate([pos + (1,1,0), pos+(-1,-1,0)])\n",
    "vel2 = np.concatenate([vel+(-3,-1,0), vel+(3,1,0)])\n",
    "\n",
    "pos2 += np.random.normal(size = pos2.shape) * 0.01\n",
    "vel2 += np.random.normal(size = pos2.shape) * 0.1\n",
    "\n",
    "pos3, vel3 = run_simulation(\n",
    "    \"spiky_2_stars\",\n",
    "    pos2,\n",
    "    vel2, \n",
    "    t = 0,  # current time of the simulation\n",
    "    tEnd = 24,  # time at which simulation ends\n",
    "    dt = 0.04,  # timestep\n",
    "    M = 3,  # star mass\n",
    "    R = 1,  # star radius\n",
    "    h = 0.1,  # smoothing length\n",
    "    k = 0.1,  # equation of state constant\n",
    "    n = 0.75,  # polytropic index\n",
    "    nu = 2,  # damping\n",
    "    kernel=spiky,\n",
    "    grad_kernel=spiky_derivative\n",
    ")   "
   ],
   "metadata": {
    "collapsed": false
   },
   "id": "e01b838edc851227"
  }
 ],
 "metadata": {
  "kernelspec": {
   "display_name": "Python 3 (ipykernel)",
   "language": "python",
   "name": "python3"
  },
  "language_info": {
   "codemirror_mode": {
    "name": "ipython",
    "version": 3
   },
   "file_extension": ".py",
   "mimetype": "text/x-python",
   "name": "python",
   "nbconvert_exporter": "python",
   "pygments_lexer": "ipython3",
   "version": "3.12.4"
  }
 },
 "nbformat": 4,
 "nbformat_minor": 5
}
