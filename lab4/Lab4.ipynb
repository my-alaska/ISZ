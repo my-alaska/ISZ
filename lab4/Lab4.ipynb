{
 "cells": [
  {
   "cell_type": "markdown",
   "id": "1929d4dd-e29b-4cf8-bf81-1c224d7d17aa",
   "metadata": {},
   "source": [
    "Create Your Own Smoothed-Particle-Hydrodynamics Simulation (With Python)\n",
    "Philip Mocz (2020) Princeton Univeristy, @PMocz\n",
    "\n",
    "Simulate the structure of a star with SPH"
   ]
  },
  {
   "cell_type": "code",
   "execution_count": 1,
   "id": "7b220da5-e35c-410f-9832-b9b75d7ae498",
   "metadata": {},
   "outputs": [],
   "source": [
    "import numpy as np\n",
    "import matplotlib.pyplot as plt\n",
    "from scipy.special import gamma"
   ]
  },
  {
   "cell_type": "markdown",
   "id": "41e782a0-7898-440a-8a31-e755a88c30b2",
   "metadata": {},
   "source": [
    "Gausssian Smoothing kernel (3D)\n",
    "- x     is a vector/matrix of x positions\n",
    "- y     is a vector/matrix of y positions\n",
    "- z     is a vector/matrix of z positions\n",
    "- h     is the smoothing length\n",
    "- w     is the evaluated smoothing function"
   ]
  },
  {
   "cell_type": "code",
   "execution_count": 2,
   "id": "ffcc2bf8-8336-4970-81c9-06603b0a0e9a",
   "metadata": {},
   "outputs": [],
   "source": [
    "def W(x, y, z, h):\n",
    "    r = np.sqrt(x**2 + y**2 + z**2)\n",
    "    w = (1.0 / (h * np.sqrt(np.pi))) ** 3 * np.exp(-(r**2) / h**2)\n",
    "    return w"
   ]
  },
  {
   "cell_type": "markdown",
   "id": "6787fa79-b000-45a6-a091-d831f1eef165",
   "metadata": {},
   "source": [
    "Gradient of the Gausssian Smoothing kernel (3D)\n",
    "- x     is a vector/matrix of x positions\n",
    "- y     is a vector/matrix of y positions\n",
    "- z     is a vector/matrix of z positions\n",
    "- h     is the smoothing length\n",
    "- wx, wy, wz     is the evaluated gradient"
   ]
  },
  {
   "cell_type": "code",
   "execution_count": 3,
   "id": "4e025535-4529-4aca-84c7-086ef21cf940",
   "metadata": {},
   "outputs": [],
   "source": [
    "def gradW(x, y, z, h):\n",
    "    r = np.sqrt(x**2 + y**2 + z**2)\n",
    "\n",
    "    n = -2 * np.exp(-(r**2) / h**2) / h**5 / (np.pi) ** (3 / 2)\n",
    "    wx = n * x\n",
    "    wy = n * y\n",
    "    wz = n * z\n",
    "\n",
    "    return wx, wy, wz"
   ]
  },
  {
   "cell_type": "markdown",
   "id": "dad241d0-b703-48eb-b3ce-d89d57eca1ab",
   "metadata": {},
   "source": [
    "Get pairwise desprations between 2 sets of coordinates\n",
    "- ri    is an M x 3 matrix of positions\n",
    "- rj    is an N x 3 matrix of positions\n",
    "- dx, dy, dz   are M x N matrices of separations"
   ]
  },
  {
   "cell_type": "code",
   "execution_count": 4,
   "id": "a1b5445f-3dee-4b7a-a9d2-32ea576e0cf2",
   "metadata": {},
   "outputs": [],
   "source": [
    "def getPairwiseSeparations(ri, rj):\n",
    "\n",
    "    M = ri.shape[0]\n",
    "    N = rj.shape[0]\n",
    "\n",
    "    # positions ri = (x,y,z)\n",
    "    rix = ri[:, 0].reshape((M, 1))\n",
    "    riy = ri[:, 1].reshape((M, 1))\n",
    "    riz = ri[:, 2].reshape((M, 1))\n",
    "\n",
    "    # other set of points positions rj = (x,y,z)\n",
    "    rjx = rj[:, 0].reshape((N, 1))\n",
    "    rjy = rj[:, 1].reshape((N, 1))\n",
    "    rjz = rj[:, 2].reshape((N, 1))\n",
    "\n",
    "    # matrices that store all pairwise particle separations: r_i - r_j\n",
    "    dx = rix - rjx.T\n",
    "    dy = riy - rjy.T\n",
    "    dz = riz - rjz.T\n",
    "\n",
    "    return dx, dy, dz"
   ]
  },
  {
   "cell_type": "markdown",
   "id": "139e5b0c-ef3f-4be4-9a3f-985b990c56c5",
   "metadata": {},
   "source": [
    "Get Density at sampling loctions from SPH particle distribution\n",
    "- r     is an M x 3 matrix of sampling locations\n",
    "- pos   is an N x 3 matrix of SPH particle positions\n",
    "- m     is the particle mass\n",
    "- h     is the smoothing length\n",
    "- rho   is M x 1 vector of densities"
   ]
  },
  {
   "cell_type": "code",
   "execution_count": 5,
   "id": "4f673b42-f885-4081-81e7-10c81c9c942a",
   "metadata": {},
   "outputs": [],
   "source": [
    "def getDensity(r, pos, m, h):\n",
    "    M = r.shape[0]\n",
    "    dx, dy, dz = getPairwiseSeparations(r, pos)\n",
    "    rho = np.sum(m * W(dx, dy, dz, h), 1).reshape((M, 1))\n",
    "    return rho"
   ]
  },
  {
   "cell_type": "markdown",
   "id": "441d2a1d-4976-46a3-994d-28c8748d31e9",
   "metadata": {},
   "source": [
    "Equation of State\n",
    "- rho   vector of densities\n",
    "- k     equation of state constant\n",
    "- n     polytropic index\n",
    "- P     pressure"
   ]
  },
  {
   "cell_type": "code",
   "execution_count": 6,
   "id": "efee4a98-00a3-4e2d-8350-eb9096caf9e8",
   "metadata": {},
   "outputs": [],
   "source": [
    "def getPressure(rho, k, n):\n",
    "    P = k * rho ** (1 + 1 / n)\n",
    "    return P"
   ]
  },
  {
   "cell_type": "markdown",
   "id": "d6abeba1-23e3-4acd-a68a-ef79a6ee7a1c",
   "metadata": {},
   "source": [
    "Calculate the acceleration on each SPH particle\n",
    "- pos   is an N x 3 matrix of positions\n",
    "- vel   is an N x 3 matrix of velocities\n",
    "- m     is the particle mass\n",
    "- h     is the smoothing length\n",
    "- k     equation of state constant\n",
    "- n     polytropic index\n",
    "- mbda external force constant\n",
    "- nu    viscosity\n",
    "- a     is N x 3 matrix of accelerations"
   ]
  },
  {
   "cell_type": "code",
   "execution_count": 7,
   "id": "b43f6559-0136-4bff-a503-c0aa0701cf48",
   "metadata": {},
   "outputs": [],
   "source": [
    "def getAcc(pos, vel, m, h, k, n, lmbda, nu):\n",
    "    N = pos.shape[0]\n",
    "\n",
    "    # Calculate densities at the position of the particles\n",
    "    rho = getDensity(pos, pos, m, h)\n",
    "\n",
    "    # Get the pressures\n",
    "    P = getPressure(rho, k, n)\n",
    "\n",
    "    # Get pairwise distances and gradients\n",
    "    dx, dy, dz = getPairwiseSeparations(pos, pos)\n",
    "    dWx, dWy, dWz = gradW(dx, dy, dz, h)\n",
    "\n",
    "    # Add Pressure contribution to accelerations\n",
    "    ax = -np.sum(m * (P / rho**2 + P.T / rho.T**2) * dWx, 1).reshape((N, 1))\n",
    "    ay = -np.sum(m * (P / rho**2 + P.T / rho.T**2) * dWy, 1).reshape((N, 1))\n",
    "    az = -np.sum(m * (P / rho**2 + P.T / rho.T**2) * dWz, 1).reshape((N, 1))\n",
    "\n",
    "    # pack together the acceleration components\n",
    "    a = np.hstack((ax, ay, az))\n",
    "\n",
    "    # Add external potential force\n",
    "    a -= lmbda * pos\n",
    "\n",
    "    # Add viscosity\n",
    "    a -= nu * vel\n",
    "\n",
    "    return a"
   ]
  },
  {
   "cell_type": "markdown",
   "id": "043379cf-a40e-4d85-91a7-3cb70b8f8b62",
   "metadata": {},
   "source": [
    "### SPH simulation\n",
    "\n",
    "Simulation parameters\n"
   ]
  },
  {
   "cell_type": "code",
   "execution_count": 8,
   "id": "9dd3bba0-625b-4aed-b5b9-3767f0e7f690",
   "metadata": {},
   "outputs": [],
   "source": [
    "N = 400  # Number of particles\n",
    "t = 0  # current time of the simulation\n",
    "tEnd = 12  # time at which simulation ends\n",
    "dt = 0.04  # timestep\n",
    "M = 2  # star mass\n",
    "R = 0.75  # star radius\n",
    "h = 0.1  # smoothing length\n",
    "k = 0.1  # equation of state constant\n",
    "n = 1  # polytropic index\n",
    "nu = 1  # damping\n",
    "plotRealTime = True  # switch on for plotting as the simulation goes along"
   ]
  },
  {
   "cell_type": "markdown",
   "id": "04d0250e-3bd3-477b-a270-9a45e16b637c",
   "metadata": {},
   "source": [
    "Generate Initial Conditions"
   ]
  },
  {
   "cell_type": "code",
   "execution_count": 9,
   "id": "08a784f8-900a-4993-87ed-ebf820ea70d8",
   "metadata": {},
   "outputs": [],
   "source": [
    "# set the random number generator seed\n",
    "np.random.seed(42)\n",
    "\n",
    "# ~ 2.01\n",
    "lmbda = (\n",
    "    2\n",
    "    * k\n",
    "    * (1 + n)\n",
    "    * np.pi ** (-3 / (2 * n))\n",
    "    * (M * gamma(5 / 2 + n) / R**3 / gamma(1 + n)) ** (1 / n)\n",
    "    / R**2\n",
    ")\n",
    "\n",
    "# single particle mass\n",
    "m = M / N\n",
    "\n",
    "# randomly selected positions and velocities\n",
    "pos = np.random.randn(N, 3)\n",
    "vel = np.zeros(pos.shape)\n",
    "\n",
    "\n",
    "# calculate initial gravitational accelerations\n",
    "acc = getAcc(pos, vel, m, h, k, n, lmbda, nu)\n",
    "\n",
    "# number of timesteps\n",
    "Nt = int(np.ceil(tEnd / dt))"
   ]
  },
  {
   "cell_type": "code",
   "execution_count": 10,
   "id": "30bd744d-c949-4f04-abf0-f611234f1515",
   "metadata": {},
   "outputs": [
    {
     "data": {
      "image/png": "[encoded data removed]",
      "text/plain": [
       "<Figure size 320x400 with 2 Axes>"
      ]
     },
     "metadata": {},
     "output_type": "display_data"
    }
   ],
   "source": [
    "# prep figure\n",
    "fig = plt.figure(figsize=(4, 5), dpi=80)\n",
    "grid = plt.GridSpec(3, 1, wspace=0.0, hspace=0.3)\n",
    "ax1 = plt.subplot(grid[0:2, 0])\n",
    "ax2 = plt.subplot(grid[2, 0])\n",
    "rr = np.zeros((100, 3))\n",
    "rlin = np.linspace(0, 1, 100)\n",
    "rr[:, 0] = rlin\n",
    "rho_analytic = lmbda / (4 * k) * (R**2 - rlin**2)"
   ]
  },
  {
   "cell_type": "markdown",
   "id": "63809c59-0527-4e30-a19d-90d2b85e0a02",
   "metadata": {},
   "source": [
    "### Simulation Main Loop"
   ]
  },
  {
   "cell_type": "code",
   "execution_count": 11,
   "id": "701629f4-d94c-4206-b027-7ef17c6d544c",
   "metadata": {},
   "outputs": [
    {
     "name": "stderr",
     "output_type": "stream",
     "text": [
      "100%|█████████████████████████████████████████| 300/300 [00:42<00:00,  7.08it/s]\n"
     ]
    },
    {
     "data": {
      "image/png": "[encoded data removed]",
      "text/plain": [
       "<Figure size 320x400 with 2 Axes>"
      ]
     },
     "metadata": {},
     "output_type": "display_data"
    }
   ],
   "source": [
    "import imageio\n",
    "from pathlib import Path\n",
    "from tqdm import tqdm\n",
    "\n",
    "save_path = Path(\"plots\")\n",
    "save_path.mkdir(exist_ok=True, parents=True)\n",
    "plot_name = \"gaussian\"\n",
    "\n",
    "for i in tqdm(range(Nt)):\n",
    "    # (1/2) kick\n",
    "    vel += acc * dt / 2\n",
    "\n",
    "    # drift\n",
    "    pos += vel * dt\n",
    "\n",
    "    # update accelerations\n",
    "    acc = getAcc(pos, vel, m, h, k, n, lmbda, nu)\n",
    "\n",
    "    # (1/2) kick\n",
    "    vel += acc * dt / 2\n",
    "\n",
    "    # update time\n",
    "    t += dt\n",
    "\n",
    "    # get density for plotting\n",
    "    rho = getDensity(pos, pos, m, h)\n",
    "\n",
    "    # plot in real time\n",
    "    if plotRealTime or (i == Nt - 1):\n",
    "        plt.sca(ax1)\n",
    "        plt.cla()\n",
    "        cval = np.minimum((rho - 3) / 3, 1).flatten()\n",
    "        plt.scatter(pos[:, 0], pos[:, 1], c=cval, cmap=plt.cm.autumn, s=10, alpha=0.5)\n",
    "        ax1.set(xlim=(-1.4, 1.4), ylim=(-1.2, 1.2))\n",
    "        ax1.set_aspect(\"equal\", \"box\")\n",
    "        ax1.set_xticks([-1, 0, 1])\n",
    "        ax1.set_yticks([-1, 0, 1])\n",
    "        ax1.set_facecolor(\"black\")\n",
    "        ax1.set_facecolor((0.1, 0.1, 0.1))\n",
    "\n",
    "        plt.sca(ax2)\n",
    "        plt.cla()\n",
    "        ax2.set(xlim=(0, 1), ylim=(0, 3))\n",
    "        ax2.set_aspect(0.1)\n",
    "        plt.plot(rlin, rho_analytic, color=\"gray\", linewidth=2)\n",
    "        rho_radial = getDensity(rr, pos, m, h)\n",
    "        plt.plot(rlin, rho_radial, color=\"blue\")\n",
    "        plt.savefig(save_path / (plot_name + f\"{i}.png\"), dpi=240)\n",
    "        plt.close()\n",
    "\n",
    "# add labels/legend\n",
    "plt.sca(ax2)\n",
    "plt.xlabel(\"radius\")\n",
    "plt.ylabel(\"density\")\n",
    "\n",
    "# Save figure\n",
    "plt.savefig(\"sph.png\", dpi=240)\n",
    "plt.show()"
   ]
  },
  {
   "cell_type": "code",
   "execution_count": 12,
   "id": "095f6782-315f-4076-9f7a-2e710c8568d0",
   "metadata": {},
   "outputs": [],
   "source": [
    "import imageio.v2 as imageio\n",
    "\n",
    "ims = [imageio.imread(save_path / (plot_name + f\"{i}.png\")) for i in range(Nt)]\n",
    "imageio.mimwrite(\"output.gif\", ims)"
   ]
  },
  {
   "cell_type": "code",
   "execution_count": null,
   "id": "de3b1412-3d17-4f3d-9d9c-38a550b62d78",
   "metadata": {},
   "outputs": [],
   "source": []
  }
 ],
 "metadata": {
  "kernelspec": {
   "display_name": "Python 3 (ipykernel)",
   "language": "python",
   "name": "python3"
  },
  "language_info": {
   "codemirror_mode": {
    "name": "ipython",
    "version": 3
   },
   "file_extension": ".py",
   "mimetype": "text/x-python",
   "name": "python",
   "nbconvert_exporter": "python",
   "pygments_lexer": "ipython3",
   "version": "3.12.4"
  }
 },
 "nbformat": 4,
 "nbformat_minor": 5
}
