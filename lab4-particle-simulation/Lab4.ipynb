{
 "cells": [
  {
   "cell_type": "markdown",
   "id": "1929d4dd-e29b-4cf8-bf81-1c224d7d17aa",
   "metadata": {},
   "source": [
    "# SPH\n",
    "\n",
    "The goal of this task is to familiarize with smoothed particle hydrodynamics.\n",
    "\n",
    "We familiarize with the simulation and try to model the creation of stars with different parameters.\n",
    "\n",
    "Additionally we try different kernels in star collision simulation\n",
    "\n",
    "# Task 1. - Familiarize with implementation of SPH\n",
    "\n",
    "\n",
    "Create Your Own Smoothed-Particle-Hydrodynamics Simulation (With Python)\n",
    "Philip Mocz (2020) Princeton Univeristy, @PMocz\n",
    "\n",
    "Simulate the structure of a star with SPH"
   ]
  },
  {
   "cell_type": "code",
   "execution_count": 1,
   "id": "7b220da5-e35c-410f-9832-b9b75d7ae498",
   "metadata": {
    "ExecuteTime": {
     "end_time": "2025-01-25T11:16:00.916834200Z",
     "start_time": "2025-01-25T11:16:00.525723200Z"
    }
   },
   "outputs": [],
   "source": [
    "import numpy as np\n",
    "import matplotlib.pyplot as plt\n",
    "from scipy.special import gamma"
   ]
  },
  {
   "cell_type": "markdown",
   "id": "41e782a0-7898-440a-8a31-e755a88c30b2",
   "metadata": {},
   "source": [
    "---\n",
    "\n",
    "### Gausssian Smoothing kernel (3D)\n",
    "\n",
    "- x     is a vector/matrix of x positions\n",
    "- y     is a vector/matrix of y positions\n",
    "- z     is a vector/matrix of z positions\n",
    "- h     is the smoothing length\n",
    "- w     is the evaluated smoothing function"
   ]
  },
  {
   "cell_type": "code",
   "execution_count": 2,
   "id": "ffcc2bf8-8336-4970-81c9-06603b0a0e9a",
   "metadata": {
    "ExecuteTime": {
     "end_time": "2025-01-25T11:16:00.937103400Z",
     "start_time": "2025-01-25T11:16:00.917430200Z"
    }
   },
   "outputs": [],
   "source": [
    "def W_gaussian(x, y, z, h):\n",
    "    r = np.sqrt(x**2 + y**2 + z**2)\n",
    "\n",
    "    w = (1.0 / (h * np.sqrt(np.pi))) ** 3 * np.exp(-(r**2) / h**2)\n",
    "    return w"
   ]
  },
  {
   "cell_type": "markdown",
   "id": "6787fa79-b000-45a6-a091-d831f1eef165",
   "metadata": {},
   "source": [
    "---\n",
    "\n",
    "### Gradient of the Gausssian Smoothing kernel (3D)\n",
    "\n",
    "- x     is a vector/matrix of x positions\n",
    "- y     is a vector/matrix of y positions\n",
    "- z     is a vector/matrix of z positions\n",
    "- h     is the smoothing length\n",
    "- wx, wy, wz     is the evaluated gradient"
   ]
  },
  {
   "cell_type": "code",
   "execution_count": 3,
   "id": "4e025535-4529-4aca-84c7-086ef21cf940",
   "metadata": {
    "ExecuteTime": {
     "end_time": "2025-01-25T11:16:00.937103400Z",
     "start_time": "2025-01-25T11:16:00.920690300Z"
    }
   },
   "outputs": [],
   "source": [
    "def grad_W_gaussian(x, y, z, h):\n",
    "    r = np.sqrt(x**2 + y**2 + z**2)\n",
    "\n",
    "    n = -2 * np.exp(-(r**2) / h**2) / h**5 / (np.pi) ** (3 / 2)\n",
    "    wx = n * x\n",
    "    wy = n * y\n",
    "    wz = n * z\n",
    "\n",
    "    return wx, wy, wz"
   ]
  },
  {
   "cell_type": "markdown",
   "id": "dad241d0-b703-48eb-b3ce-d89d57eca1ab",
   "metadata": {},
   "source": [
    "---\n",
    "\n",
    "### Get pairwise desprations between 2 sets of coordinates\n",
    "\n",
    "- ri    is an M x 3 matrix of positions\n",
    "- rj    is an N x 3 matrix of positions\n",
    "- dx, dy, dz   are M x N matrices of separations"
   ]
  },
  {
   "cell_type": "code",
   "execution_count": 4,
   "id": "a1b5445f-3dee-4b7a-a9d2-32ea576e0cf2",
   "metadata": {
    "ExecuteTime": {
     "end_time": "2025-01-25T11:16:00.938111Z",
     "start_time": "2025-01-25T11:16:00.925098200Z"
    }
   },
   "outputs": [],
   "source": [
    "def getPairwiseSeparations(ri, rj):\n",
    "\n",
    "    M = ri.shape[0]\n",
    "    N = rj.shape[0]\n",
    "\n",
    "    # positions ri = (x,y,z)\n",
    "    rix = ri[:, 0].reshape((M, 1))\n",
    "    riy = ri[:, 1].reshape((M, 1))\n",
    "    riz = ri[:, 2].reshape((M, 1))\n",
    "\n",
    "    # other set of points positions rj = (x,y,z)\n",
    "    rjx = rj[:, 0].reshape((N, 1))\n",
    "    rjy = rj[:, 1].reshape((N, 1))\n",
    "    rjz = rj[:, 2].reshape((N, 1))\n",
    "\n",
    "    # matrices that store all pairwise particle separations: r_i - r_j\n",
    "    dx = rix - rjx.T\n",
    "    dy = riy - rjy.T\n",
    "    dz = riz - rjz.T\n",
    "\n",
    "    return dx, dy, dz"
   ]
  },
  {
   "cell_type": "markdown",
   "id": "139e5b0c-ef3f-4be4-9a3f-985b990c56c5",
   "metadata": {},
   "source": [
    "---\n",
    "\n",
    "### Get Density at sampling loctions from SPH particle distribution\n",
    "\n",
    "- r     is an M x 3 matrix of sampling locations\n",
    "- pos   is an N x 3 matrix of SPH particle positions\n",
    "- m     is the particle mass\n",
    "- h     is the smoothing length\n",
    "- rho   is M x 1 vector of densities"
   ]
  },
  {
   "cell_type": "code",
   "execution_count": 5,
   "id": "4f673b42-f885-4081-81e7-10c81c9c942a",
   "metadata": {
    "ExecuteTime": {
     "end_time": "2025-01-25T11:16:02.100036900Z",
     "start_time": "2025-01-25T11:16:02.090517500Z"
    }
   },
   "outputs": [],
   "source": [
    "def getDensity(r, pos, m, h, W):\n",
    "    M = r.shape[0]\n",
    "    dx, dy, dz = getPairwiseSeparations(r, pos)\n",
    "    rho = np.sum(m * W(dx, dy, dz, h), 1).reshape((M, 1))\n",
    "    return rho"
   ]
  },
  {
   "cell_type": "markdown",
   "id": "441d2a1d-4976-46a3-994d-28c8748d31e9",
   "metadata": {},
   "source": [
    "---\n",
    "\n",
    "### Equation of State\n",
    "\n",
    "- rho   vector of densities\n",
    "- k     equation of state constant\n",
    "- n     polytropic index\n",
    "- P     pressure"
   ]
  },
  {
   "cell_type": "code",
   "execution_count": 6,
   "id": "efee4a98-00a3-4e2d-8350-eb9096caf9e8",
   "metadata": {
    "ExecuteTime": {
     "end_time": "2025-01-25T11:16:04.641176100Z",
     "start_time": "2025-01-25T11:16:04.615656Z"
    }
   },
   "outputs": [],
   "source": [
    "def getPressure(rho, k, n):\n",
    "    P = k * rho ** (1 + 1 / n)\n",
    "    return P"
   ]
  },
  {
   "cell_type": "markdown",
   "id": "d6abeba1-23e3-4acd-a68a-ef79a6ee7a1c",
   "metadata": {},
   "source": [
    "---\n",
    "\n",
    "### Calculate the acceleration on each SPH particle\n",
    "\n",
    "- pos   is an N x 3 matrix of positions\n",
    "- vel   is an N x 3 matrix of velocities\n",
    "- m     is the particle mass\n",
    "- h     is the smoothing length\n",
    "- k     equation of state constant\n",
    "- n     polytropic index\n",
    "- mbda external force constant\n",
    "- nu    viscosity\n",
    "- a     is N x 3 matrix of accelerations"
   ]
  },
  {
   "cell_type": "code",
   "execution_count": 7,
   "id": "b43f6559-0136-4bff-a503-c0aa0701cf48",
   "metadata": {
    "ExecuteTime": {
     "end_time": "2025-01-25T11:16:05.130725Z",
     "start_time": "2025-01-25T11:16:05.117412Z"
    }
   },
   "outputs": [],
   "source": [
    "def getAcc(pos, vel, m, h, k, n, lmbda, nu, kernel, grad_kernel):\n",
    "    N = pos.shape[0]\n",
    "\n",
    "    # Calculate densities at the position of the particles\n",
    "    rho = getDensity(pos, pos, m, h, kernel)\n",
    "\n",
    "    # Get the pressures\n",
    "    P = getPressure(rho, k, n)\n",
    "\n",
    "    # Get pairwise distances and gradients\n",
    "    dx, dy, dz = getPairwiseSeparations(pos, pos)\n",
    "    dWx, dWy, dWz = grad_kernel(dx, dy, dz, h)\n",
    "\n",
    "    # Add Pressure contribution to accelerations\n",
    "    ax = -np.sum(m * (P / rho**2 + P.T / rho.T**2) * dWx, 1).reshape((N, 1))\n",
    "    ay = -np.sum(m * (P / rho**2 + P.T / rho.T**2) * dWy, 1).reshape((N, 1))\n",
    "    az = -np.sum(m * (P / rho**2 + P.T / rho.T**2) * dWz, 1).reshape((N, 1))\n",
    "\n",
    "    # pack together the acceleration components\n",
    "    a = np.hstack((ax, ay, az))\n",
    "\n",
    "    # Add external potential force\n",
    "    a -= lmbda * pos\n",
    "\n",
    "    # Add viscosity\n",
    "    a -= nu * vel\n",
    "\n",
    "    return a"
   ]
  },
  {
   "cell_type": "markdown",
   "id": "043379cf-a40e-4d85-91a7-3cb70b8f8b62",
   "metadata": {},
   "source": [
    "---\n",
    "\n",
    "# SPH simulation\n",
    "\n",
    "### Simulation plotting\n"
   ]
  },
  {
   "cell_type": "code",
   "execution_count": 8,
   "id": "30bd744d-c949-4f04-abf0-f611234f1515",
   "metadata": {
    "ExecuteTime": {
     "end_time": "2025-01-25T11:16:06.240441900Z",
     "start_time": "2025-01-25T11:16:06.231541900Z"
    }
   },
   "outputs": [],
   "source": [
    "def plot_system(rho, pos, lmbda, m, R, h, k, save_path, kernel):\n",
    "    # prep figure\n",
    "    fig = plt.figure(figsize=(4, 5), dpi=80)\n",
    "    grid = plt.GridSpec(3, 1, wspace=0.0, hspace=0.3)\n",
    "    ax1 = plt.subplot(grid[0:2, 0])\n",
    "    ax2 = plt.subplot(grid[2, 0])\n",
    "    rr = np.zeros((100, 3))\n",
    "    rlin = np.linspace(0, 1, 100)\n",
    "    rr[:, 0] = rlin\n",
    "    rho_analytic = lmbda / (4 * k) * (R**2 - rlin**2)\n",
    "\n",
    "    plt.sca(ax1)\n",
    "    plt.cla()\n",
    "    cval = np.minimum((rho - 3) / 3, 1).flatten()\n",
    "    plt.scatter(pos[:, 0], pos[:, 1], c=cval, cmap=plt.cm.autumn, s=3, alpha=0.5)\n",
    "    ax1.set(xlim=(-2.8, 2.8), ylim=(-2.4, 2.4))\n",
    "    ax1.set_aspect(\"equal\", \"box\")\n",
    "    ax1.set_facecolor(\"black\")\n",
    "    ax1.set_facecolor((0.1, 0.1, 0.1))\n",
    "\n",
    "    plt.sca(ax2)\n",
    "    plt.cla()\n",
    "    ax2.set(xlim=(0, 1), ylim=(0, 3))\n",
    "    ax2.set_aspect(0.1)\n",
    "    plt.plot(rlin, rho_analytic, color=\"gray\", linewidth=2)\n",
    "    rho_radial = getDensity(rr, pos, m, h, kernel)\n",
    "    plt.plot(rlin, rho_radial, color=\"blue\")\n",
    "    plt.savefig(save_path, dpi=240)\n",
    "    plt.close()"
   ]
  },
  {
   "cell_type": "markdown",
   "id": "63809c59-0527-4e30-a19d-90d2b85e0a02",
   "metadata": {},
   "source": [
    "---\n",
    "\n",
    "# Task 2. Star simulation\n",
    "\n",
    "### Simulation Main Loop"
   ]
  },
  {
   "cell_type": "code",
   "execution_count": 9,
   "id": "701629f4-d94c-4206-b027-7ef17c6d544c",
   "metadata": {
    "ExecuteTime": {
     "end_time": "2025-01-25T11:16:09.416400Z",
     "start_time": "2025-01-25T11:16:09.392629100Z"
    }
   },
   "outputs": [],
   "source": [
    "from pathlib import Path\n",
    "from tqdm import tqdm\n",
    "import imageio.v2 as imageio\n",
    "\n",
    "\n",
    "def run_simulation(\n",
    "    plot_name,\n",
    "    pos,\n",
    "    vel,\n",
    "    t,  # current time of the simulation\n",
    "    tEnd,  # time at which simulation ends\n",
    "    dt,  # timestep\n",
    "    M,  # star mass\n",
    "    R,  # star radius\n",
    "    h,  # smoothing length\n",
    "    k,  # equation of state constant\n",
    "    n,  # polytropic index\n",
    "    nu,  # damping\n",
    "    kernel,\n",
    "    grad_kernel,\n",
    "    only_one=False,\n",
    "):\n",
    "    N = pos.shape[0]\n",
    "\n",
    "    save_path = Path(\"plots\")\n",
    "    save_path.mkdir(exist_ok=True, parents=True)\n",
    "\n",
    "    gif_path = Path(\"lab4_gifs\")\n",
    "    gif_path.mkdir(exist_ok=True, parents=True)\n",
    "\n",
    "    lmbda = (\n",
    "        (2 * k * (1 + n))\n",
    "        * (np.pi ** (-3 / (2 * n)))\n",
    "        * (M * gamma(5 / 2 + n) / R**3 / gamma(1 + n)) ** (1 / n)\n",
    "        / R**2\n",
    "    )\n",
    "\n",
    "    m = M / N  # single particle mass\n",
    "    acc = getAcc(\n",
    "        pos, vel, m, h, k, n, lmbda, nu, kernel, grad_kernel\n",
    "    )  # calculate initial gravitational accelerations\n",
    "    Nt = int(np.ceil(tEnd / dt))  # number of timesteps\n",
    "\n",
    "    for i in tqdm(range(Nt)):\n",
    "        if only_one:\n",
    "            return None, None\n",
    "\n",
    "        vel += acc * dt / 2  # (1/2) kick\n",
    "        pos += vel * dt  # drift\n",
    "        acc = getAcc(\n",
    "            pos, vel, m, h, k, n, lmbda, nu, kernel, grad_kernel\n",
    "        )  # update accelerations\n",
    "        vel += acc * dt / 2  # (1/2) kick\n",
    "        t += dt  # update time\n",
    "        rho = getDensity(pos, pos, m, h, kernel)  # get density for plotting\n",
    "\n",
    "        plot_system(\n",
    "            rho, pos, lmbda, m, R, h, k, save_path / f\"{plot_name}_{i}.png\", kernel\n",
    "        )\n",
    "\n",
    "    ims = [imageio.imread(save_path / f\"{plot_name}_{i}.png\") for i in tqdm(range(Nt))]\n",
    "    imageio.mimwrite(gif_path / f\"{plot_name}.gif\", ims, loop=0, duration=0.2)\n",
    "\n",
    "    return pos, vel"
   ]
  },
  {
   "cell_type": "code",
   "execution_count": 22,
   "id": "095f6782-315f-4076-9f7a-2e710c8568d0",
   "metadata": {
    "ExecuteTime": {
     "end_time": "2025-01-25T11:45:01.926862300Z",
     "start_time": "2025-01-25T11:45:01.914814Z"
    }
   },
   "outputs": [],
   "source": [
    "# set the random number generator seed\n",
    "np.random.seed(42)"
   ]
  },
  {
   "cell_type": "markdown",
   "source": [
    "# Task 3. Demonstrate changes of default parameters"
   ],
   "metadata": {
    "collapsed": false
   },
   "id": "7e94e68bf7a5e3f6"
  },
  {
   "cell_type": "code",
   "execution_count": 23,
   "outputs": [
    {
     "name": "stdout",
     "output_type": "stream",
     "text": [
      "simulation_N-400_nu-0.25_h-0.01\n"
     ]
    },
    {
     "name": "stderr",
     "output_type": "stream",
     "text": [
      "100%|██████████| 300/300 [00:57<00:00,  5.22it/s]\n",
      "100%|██████████| 300/300 [00:07<00:00, 39.26it/s]\n"
     ]
    },
    {
     "name": "stdout",
     "output_type": "stream",
     "text": [
      "simulation_N-400_nu-0.25_h-0.1\n"
     ]
    },
    {
     "name": "stderr",
     "output_type": "stream",
     "text": [
      "100%|██████████| 300/300 [01:01<00:00,  4.88it/s]\n",
      "100%|██████████| 300/300 [00:07<00:00, 39.95it/s]\n"
     ]
    },
    {
     "name": "stdout",
     "output_type": "stream",
     "text": [
      "simulation_N-400_nu-0.25_h-0.9\n"
     ]
    },
    {
     "name": "stderr",
     "output_type": "stream",
     "text": [
      "100%|██████████| 300/300 [01:03<00:00,  4.72it/s]\n",
      "100%|██████████| 300/300 [00:07<00:00, 39.44it/s]\n"
     ]
    },
    {
     "name": "stdout",
     "output_type": "stream",
     "text": [
      "simulation_N-400_nu-0.75_h-0.01\n"
     ]
    },
    {
     "name": "stderr",
     "output_type": "stream",
     "text": [
      "100%|██████████| 300/300 [01:09<00:00,  4.34it/s]\n",
      "100%|██████████| 300/300 [00:07<00:00, 39.52it/s]\n"
     ]
    },
    {
     "name": "stdout",
     "output_type": "stream",
     "text": [
      "simulation_N-400_nu-0.75_h-0.1\n"
     ]
    },
    {
     "name": "stderr",
     "output_type": "stream",
     "text": [
      "100%|██████████| 300/300 [01:00<00:00,  4.93it/s]\n",
      "100%|██████████| 300/300 [00:07<00:00, 40.92it/s]\n"
     ]
    },
    {
     "name": "stdout",
     "output_type": "stream",
     "text": [
      "simulation_N-400_nu-0.75_h-0.9\n"
     ]
    },
    {
     "name": "stderr",
     "output_type": "stream",
     "text": [
      "100%|██████████| 300/300 [00:45<00:00,  6.66it/s]\n",
      "100%|██████████| 300/300 [00:07<00:00, 39.51it/s]\n"
     ]
    },
    {
     "name": "stdout",
     "output_type": "stream",
     "text": [
      "simulation_N-400_nu-0.99_h-0.01\n"
     ]
    },
    {
     "name": "stderr",
     "output_type": "stream",
     "text": [
      "100%|██████████| 300/300 [01:09<00:00,  4.33it/s]\n",
      "100%|██████████| 300/300 [00:08<00:00, 36.43it/s]\n"
     ]
    },
    {
     "name": "stdout",
     "output_type": "stream",
     "text": [
      "simulation_N-400_nu-0.99_h-0.1\n"
     ]
    },
    {
     "name": "stderr",
     "output_type": "stream",
     "text": [
      "100%|██████████| 300/300 [01:00<00:00,  5.00it/s]\n",
      "100%|██████████| 300/300 [00:07<00:00, 38.23it/s]\n"
     ]
    },
    {
     "name": "stdout",
     "output_type": "stream",
     "text": [
      "simulation_N-400_nu-0.99_h-0.9\n"
     ]
    },
    {
     "name": "stderr",
     "output_type": "stream",
     "text": [
      "100%|██████████| 300/300 [00:52<00:00,  5.71it/s]\n",
      "100%|██████████| 300/300 [00:06<00:00, 44.88it/s]\n"
     ]
    },
    {
     "name": "stdout",
     "output_type": "stream",
     "text": [
      "simulation_N-1000_nu-0.25_h-0.01\n"
     ]
    },
    {
     "name": "stderr",
     "output_type": "stream",
     "text": [
      "100%|██████████| 300/300 [02:07<00:00,  2.35it/s]\n",
      "100%|██████████| 300/300 [00:07<00:00, 41.94it/s]\n"
     ]
    },
    {
     "name": "stdout",
     "output_type": "stream",
     "text": [
      "simulation_N-1000_nu-0.25_h-0.1\n"
     ]
    },
    {
     "name": "stderr",
     "output_type": "stream",
     "text": [
      "100%|██████████| 300/300 [01:54<00:00,  2.63it/s]\n",
      "100%|██████████| 300/300 [00:08<00:00, 35.28it/s]\n"
     ]
    },
    {
     "name": "stdout",
     "output_type": "stream",
     "text": [
      "simulation_N-1000_nu-0.25_h-0.9\n"
     ]
    },
    {
     "name": "stderr",
     "output_type": "stream",
     "text": [
      "100%|██████████| 300/300 [02:04<00:00,  2.41it/s]\n",
      "100%|██████████| 300/300 [00:07<00:00, 37.78it/s]\n"
     ]
    },
    {
     "name": "stdout",
     "output_type": "stream",
     "text": [
      "simulation_N-1000_nu-0.75_h-0.01\n"
     ]
    },
    {
     "name": "stderr",
     "output_type": "stream",
     "text": [
      "100%|██████████| 300/300 [02:17<00:00,  2.18it/s]\n",
      "100%|██████████| 300/300 [00:08<00:00, 36.45it/s]\n"
     ]
    },
    {
     "name": "stdout",
     "output_type": "stream",
     "text": [
      "simulation_N-1000_nu-0.75_h-0.1\n"
     ]
    },
    {
     "name": "stderr",
     "output_type": "stream",
     "text": [
      "100%|██████████| 300/300 [01:52<00:00,  2.66it/s]\n",
      "100%|██████████| 300/300 [00:08<00:00, 37.24it/s]\n"
     ]
    },
    {
     "name": "stdout",
     "output_type": "stream",
     "text": [
      "simulation_N-1000_nu-0.75_h-0.9\n"
     ]
    },
    {
     "name": "stderr",
     "output_type": "stream",
     "text": [
      "100%|██████████| 300/300 [02:04<00:00,  2.41it/s]\n",
      "100%|██████████| 300/300 [00:07<00:00, 38.65it/s]\n"
     ]
    },
    {
     "name": "stdout",
     "output_type": "stream",
     "text": [
      "simulation_N-1000_nu-0.99_h-0.01\n"
     ]
    },
    {
     "name": "stderr",
     "output_type": "stream",
     "text": [
      "100%|██████████| 300/300 [02:03<00:00,  2.44it/s]\n",
      "100%|██████████| 300/300 [00:07<00:00, 39.82it/s]\n"
     ]
    },
    {
     "name": "stdout",
     "output_type": "stream",
     "text": [
      "simulation_N-1000_nu-0.99_h-0.1\n"
     ]
    },
    {
     "name": "stderr",
     "output_type": "stream",
     "text": [
      "100%|██████████| 300/300 [01:33<00:00,  3.20it/s]\n",
      "100%|██████████| 300/300 [00:06<00:00, 49.47it/s]\n"
     ]
    },
    {
     "name": "stdout",
     "output_type": "stream",
     "text": [
      "simulation_N-1000_nu-0.99_h-0.9\n"
     ]
    },
    {
     "name": "stderr",
     "output_type": "stream",
     "text": [
      "100%|██████████| 300/300 [01:39<00:00,  3.02it/s]\n",
      "100%|██████████| 300/300 [00:05<00:00, 50.02it/s]\n"
     ]
    }
   ],
   "source": [
    "N_list = [400, 1000]  # Number of particles\n",
    "nu_list = [0.25, 0.75, 0.99]  # damping\n",
    "h_list = [0.01, 0.1, 0.9]  # smoothing length\n",
    "\n",
    "for N in N_list:\n",
    "    for nu in nu_list:\n",
    "        for h in h_list:\n",
    "            pos = np.random.randn(N, 3)\n",
    "            # vel = np.zeros(pos.shape)\n",
    "            vel = np.random.randn(N, 3)\n",
    "\n",
    "            plot_name = f\"simulation_N-{N}_nu-{nu}_h-{h}\"\n",
    "            print(plot_name)\n",
    "            pos, vel = run_simulation(\n",
    "                plot_name,\n",
    "                pos,\n",
    "                vel,\n",
    "                t=0,  # current time of the simulation\n",
    "                tEnd=12,  # time at which simulation ends\n",
    "                dt=0.04,  # timestep\n",
    "                M=2,  # star mass\n",
    "                R=0.75,  # star radius\n",
    "                h=h,  # smoothing length\n",
    "                k=0.1,  # equation of state constant\n",
    "                n=1,  # polytropic index\n",
    "                nu=nu,  # damping\n",
    "                kernel=W_gaussian,\n",
    "                grad_kernel=grad_W_gaussian,\n",
    "            )"
   ],
   "metadata": {
    "collapsed": false,
    "ExecuteTime": {
     "end_time": "2025-01-25T12:18:53.651606700Z",
     "start_time": "2025-01-25T11:45:02.848827900Z"
    }
   },
   "id": "3bf08e0b46d6b4ab"
  },
  {
   "cell_type": "markdown",
   "source": [
    "# IMPORTANT! \n",
    "\n",
    "### All contents of the lab4_gifs.zip must be placed inside lab4_gifs directory next to this notebook or html file. \n",
    "### Otherwise the visualizations won't display correctly!\n",
    "### Markdown commands search for simulation visualizations saved as .gif files inside lab4_gifs directory\n",
    "\n",
    "---\n",
    "\n",
    "# Simulations for 400 particles\n",
    "\n",
    "- N  - 400\n",
    "- nu - 0.25\n",
    "- h  - 0.01\n",
    "\n",
    "It seems that the particles are not forming a star. \n",
    "They do oscilate around the center of mass, but they lose their veolcity slowly.\n",
    "\n",
    "![SegmentLocal](./lab4_gifs/simulation_N-400_nu-0.25_h-0.01.gif)\n",
    "\n",
    "---\n",
    "\n",
    "- N  - 400\n",
    "- nu - 0.25\n",
    "- h  - 0.1\n",
    "\n",
    "The particles get connected much better than before. A star is formed\n",
    "\n",
    "![SegmentLocal](./lab4_gifs/simulation_N-400_nu-0.25_h-0.1.gif)\n",
    "\n",
    "---\n",
    "\n",
    "- N  - 400\n",
    "- nu - 0.25\n",
    "- h  - 0.9\n",
    "\n",
    "A star in this example is very steady. The particles quickly fall in their place and stabilize.\n",
    "\n",
    "![SegmentLocal](./lab4_gifs/simulation_N-400_nu-0.25_h-0.9.gif)\n",
    "\n",
    "---\n",
    "\n",
    "### Simulations for higher nu\n",
    "\n",
    "Following three simulations are performed on higher value of nu - 0.75\n",
    "\n",
    "- N  - 400\n",
    "- nu - 0.75\n",
    "- h  - 0.01\n",
    "\n",
    "The particles don't stabilize. Just like in the previous example, \n",
    "but they quickly start oscilating around one particular point. It's much more defined than previously.\n",
    " It looks like the interaction between particle and the center of the mass is more important than between particle and another particle.\n",
    "\n",
    "![SegmentLocal](./lab4_gifs/simulation_N-400_nu-0.75_h-0.01.gif)\n",
    "\n",
    "---\n",
    "\n",
    "- N  - 400\n",
    "- nu - 0.75\n",
    "- h  - 0.1\n",
    "\n",
    "We can see a creation of a very steady star of regular shape!\n",
    "\n",
    "![SegmentLocal](./lab4_gifs/simulation_N-400_nu-0.75_h-0.1.gif)\n",
    "\n",
    "---\n",
    "\n",
    "- N  - 400\n",
    "- nu - 0.75\n",
    "- h  - 0.9\n",
    "\n",
    "A very interesting example. The star practically collapses in one small point. \n",
    "\n",
    "![SegmentLocal](./lab4_gifs/simulation_N-400_nu-0.75_h-0.9.gif)\n",
    "\n",
    "---\n",
    "\n",
    "### Higher nu simulations\n",
    "\n",
    "The following simulations are performed for nu equal 0.99\n",
    "\n",
    "- N  - 400\n",
    "- nu - 0.99\n",
    "- h  - 0.01\n",
    "\n",
    "As before, the particles get centered around the same point.\n",
    "It's worth noting that they don't seem to be gaining density! \n",
    "They're all marked dark red.\n",
    "\n",
    "![SegmentLocal](./lab4_gifs/simulation_N-400_nu-0.99_h-0.01.gif)\n",
    "\n",
    "---\n",
    "\n",
    "- N  - 400\n",
    "- nu - 0.99\n",
    "- h  - 0.1\n",
    "\n",
    "The star quickly stabilizes. \n",
    "It's interesting that we see small bursts of density before the particles collapse and form a star.\n",
    "\n",
    "![SegmentLocal](./lab4_gifs/simulation_N-400_nu-0.99_h-0.1.gif)\n",
    "\n",
    "---\n",
    "\n",
    "- N  - 400\n",
    "- nu - 0.99\n",
    "- h  - 0.9\n",
    "\n",
    "Again the star collapses into one point of high density. \n",
    "Reminds me of black hole creation, but I can't be certain whether that's how we could model black holes.\n",
    "\n",
    "Observation - Even though the star collapses, it doesn't gain spin. We know from physics that if an object that has even a slight rotation collapses in itself it keeps it's momentum and gains spin due to decreasing radius. It doesn't happen here. Perhaps other methods could be used to model this fenomenon. \n",
    "\n",
    "![SegmentLocal](./lab4_gifs/simulation_N-400_nu-0.99_h-0.9.gif)\n",
    "\n",
    "### Simulations for 1000 particles\n",
    "\n",
    "Following \n",
    "\n",
    "- N  - 1000\n",
    "- nu - 0.25\n",
    "- h  - 0.01\n",
    "\n",
    "![SegmentLocal](./lab4_gifs/simulation_N-1000_nu-0.25_h-0.01.gif)\n",
    "\n",
    "---\n",
    "\n",
    "- N  - 1000\n",
    "- nu - 0.25\n",
    "- h  - 0.1\n",
    "\n",
    "![SegmentLocal](./lab4_gifs/simulation_N-1000_nu-0.25_h-0.1.gif)\n",
    "\n",
    "---\n",
    "\n",
    "- N  - 1000\n",
    "- nu - 0.25\n",
    "- h  - 0.9\n",
    "\n",
    "![SegmentLocal](./lab4_gifs/simulation_N-1000_nu-0.25_h-0.9.gif)\n",
    "\n",
    "---\n",
    "\n",
    "- N  - 1000\n",
    "- nu - 0.75\n",
    "- h  - 0.01\n",
    "\n",
    "![SegmentLocal](./lab4_gifs/simulation_N-1000_nu-0.75_h-0.01.gif)\n",
    "\n",
    "---\n",
    "\n",
    "- N  - 1000\n",
    "- nu - 0.75\n",
    "- h  - 0.1\n",
    "\n",
    "![SegmentLocal](./lab4_gifs/simulation_N-1000_nu-0.75_h-0.1.gif)\n",
    "\n",
    "---\n",
    "\n",
    "- N  - 1000\n",
    "- nu - 0.75\n",
    "- h  - 0.9\n",
    "\n",
    "![SegmentLocal](./lab4_gifs/simulation_N-1000_nu-0.75_h-0.9.gif)\n",
    "\n",
    "---\n",
    "\n",
    "- N  - 1000\n",
    "- nu - 0.99\n",
    "- h  - 0.01\n",
    "\n",
    "![SegmentLocal](./lab4_gifs/simulation_N-1000_nu-0.99_h-0.01.gif)\n",
    "\n",
    "---\n",
    "\n",
    "- N  - 1000\n",
    "- nu - 0.99\n",
    "- h  - 0.1\n",
    "\n",
    "![SegmentLocal](./lab4_gifs/simulation_N-1000_nu-0.99_h-0.1.gif)\n",
    "\n",
    "---\n",
    "\n",
    "- N  - 1000\n",
    "- nu - 0.99\n",
    "- h  - 0.9\n",
    "\n",
    "![SegmentLocal](./lab4_gifs/simulation_N-1000_nu-0.99_h-0.9.gif)\n",
    "\n",
    "---\n"
   ],
   "metadata": {
    "collapsed": false
   },
   "id": "bc5f35cd8c9d3c71"
  },
  {
   "cell_type": "markdown",
   "source": [
    "# Task 4 and 5. Compare different kernels and present simulation of 2 star collision\n",
    "\n",
    "To handle the collision of two stars we copy the particles from the simulation of one star and place two copies on one plot.\n",
    "We add velocities to each particle to model collisions of two stars that oscilate over a point in space.\n",
    "\n",
    "### Gaussian kernel"
   ],
   "metadata": {
    "collapsed": false
   },
   "id": "ecaf8932555c6c8f"
  },
  {
   "cell_type": "code",
   "execution_count": 11,
   "id": "de3b1412-3d17-4f3d-9d9c-38a550b62d78",
   "metadata": {
    "ExecuteTime": {
     "end_time": "2025-01-25T11:17:25.105528300Z",
     "start_time": "2025-01-25T11:16:17.119362900Z"
    }
   },
   "outputs": [
    {
     "name": "stderr",
     "output_type": "stream",
     "text": [
      "100%|██████████| 300/300 [00:47<00:00,  6.38it/s]\n",
      "100%|██████████| 300/300 [00:06<00:00, 47.27it/s]\n"
     ]
    }
   ],
   "source": [
    "N = 400  # Number of particles\n",
    "pos = np.random.randn(N, 3)\n",
    "# vel = np.zeros(pos.shape)\n",
    "vel = np.random.randn(N, 3)\n",
    "\n",
    "pos, vel = run_simulation(\n",
    "    \"gaussian\",\n",
    "    pos,\n",
    "    vel,\n",
    "    t=0,  # current time of the simulation\n",
    "    tEnd=12,  # time at which simulation ends\n",
    "    dt=0.04,  # timestep\n",
    "    M=2,  # star mass\n",
    "    R=0.75,  # star radius\n",
    "    h=0.1,  # smoothing length\n",
    "    k=0.1,  # equation of state constant\n",
    "    n=1,  # polytropic index\n",
    "    nu=0.75,  # damping\n",
    "    kernel=W_gaussian,\n",
    "    grad_kernel=grad_W_gaussian,\n",
    ")"
   ]
  },
  {
   "cell_type": "markdown",
   "source": [
    "![SegmentLocal](./lab4_gifs/gaussian.gif)"
   ],
   "metadata": {
    "collapsed": false
   },
   "id": "5e301528bc4bbdf2"
  },
  {
   "cell_type": "code",
   "execution_count": 12,
   "outputs": [
    {
     "name": "stderr",
     "output_type": "stream",
     "text": [
      "100%|██████████| 600/600 [02:42<00:00,  3.69it/s]\n",
      "100%|██████████| 600/600 [00:12<00:00, 49.66it/s]\n"
     ]
    }
   ],
   "source": [
    "pos2 = np.concatenate([pos + (1, 1, 0), pos + (-1, -1, 0)])\n",
    "vel2 = np.concatenate([vel + (-3, -1, 0), vel + (3, 1, 0)])\n",
    "\n",
    "pos2 += np.random.normal(size=pos2.shape) * 0.01\n",
    "vel2 += np.random.normal(size=pos2.shape) * 0.1\n",
    "\n",
    "pos3, vel3 = run_simulation(\n",
    "    \"gaussian_2_stars\",\n",
    "    pos2,\n",
    "    vel2,\n",
    "    t=0,  # current time of the simulation\n",
    "    tEnd=24,  # time at which simulation ends\n",
    "    dt=0.04,  # timestep\n",
    "    M=3,  # star mass\n",
    "    R=0.75,  # star radius\n",
    "    h=0.1,  # smoothing length\n",
    "    k=0.1,  # equation of state constant\n",
    "    n=0.75,  # polytropic index\n",
    "    nu=0.3,  # damping\n",
    "    kernel=W_gaussian,\n",
    "    grad_kernel=grad_W_gaussian,\n",
    ")"
   ],
   "metadata": {
    "collapsed": false,
    "ExecuteTime": {
     "end_time": "2025-01-25T11:20:42.881596800Z",
     "start_time": "2025-01-25T11:17:25.107897600Z"
    }
   },
   "id": "c512079ee8e363f"
  },
  {
   "cell_type": "markdown",
   "source": [
    "![SegmentLocal](./lab4_gifs/gaussian_2_stars.gif)"
   ],
   "metadata": {
    "collapsed": false
   },
   "id": "e1a4728594ccafbf"
  },
  {
   "cell_type": "markdown",
   "source": [
    "Gaussian kernel used for simulating star collision allows is visualized in `gaussian_2_stars.gif` file.\n",
    "\n",
    "A collision looks beautiful. It's believable, although at first it seems that the two stars pass through each other."
   ],
   "metadata": {
    "collapsed": false
   },
   "id": "ccdd165d88fe54de"
  },
  {
   "cell_type": "markdown",
   "source": [
    "---\n",
    "\n",
    "# Different kernels\n",
    "\n",
    "### Cubic Spline Kernel"
   ],
   "metadata": {
    "collapsed": false
   },
   "id": "a951a31d49ecbb1d"
  },
  {
   "cell_type": "code",
   "execution_count": 13,
   "outputs": [],
   "source": [
    "def cubic_spline(x, y, z, h):\n",
    "    r = np.sqrt(x**2 + y**2 + z**2)\n",
    "    q = r / h\n",
    "\n",
    "    result = np.zeros(shape=r.shape)\n",
    "\n",
    "    r_1h = (1 - 1.5 * q**2 + 0.75 * q**3) / (h**3 * np.pi)\n",
    "    r_1h_mask = r <= h\n",
    "\n",
    "    r_2h = (2 - q) ** 3 / (4 * h**3 * np.pi)\n",
    "    r_2h_mask = (r > h) & (r <= 2 * h)\n",
    "\n",
    "    result[r_1h_mask] = r_1h[r_1h_mask]\n",
    "    result[r_2h_mask] = r_2h[r_2h_mask]\n",
    "\n",
    "    return result\n",
    "\n",
    "\n",
    "def cubic_spline_derivative(x, y, z, h):\n",
    "    r = np.sqrt(x**2 + y**2 + z**2)\n",
    "    q = r / h\n",
    "\n",
    "    n = np.zeros(shape=r.shape)\n",
    "\n",
    "    r_1h = (-12 * q + 9 * q**2) / (4 * h**4 * np.pi)\n",
    "    r_1h_mask = r <= h\n",
    "\n",
    "    r_2h = -3 * (2 - q) ** 2 / (4 * h**4 * np.pi)\n",
    "    r_2h_mask = (r > h) & (r <= 2 * h)\n",
    "\n",
    "    n[r_1h_mask] = r_1h[r_1h_mask]\n",
    "    n[r_2h_mask] = r_2h[r_2h_mask]\n",
    "\n",
    "    np.fill_diagonal(r, 1)\n",
    "\n",
    "    wx = n * x / r\n",
    "    wy = n * y / r\n",
    "    wz = n * z / r\n",
    "\n",
    "    return wx, wy, wz"
   ],
   "metadata": {
    "collapsed": false,
    "ExecuteTime": {
     "end_time": "2025-01-25T11:20:42.930597Z",
     "start_time": "2025-01-25T11:20:42.884605500Z"
    }
   },
   "id": "f2f31c7dec6b360f"
  },
  {
   "cell_type": "code",
   "execution_count": 14,
   "outputs": [
    {
     "name": "stderr",
     "output_type": "stream",
     "text": [
      "100%|██████████| 300/300 [00:41<00:00,  7.26it/s]\n",
      "100%|██████████| 300/300 [00:03<00:00, 80.39it/s]\n"
     ]
    }
   ],
   "source": [
    "N = 400  # Number of particles\n",
    "pos = np.random.randn(N, 3)\n",
    "# vel = np.zeros(pos.shape)\n",
    "vel = np.random.randn(N, 3)\n",
    "\n",
    "pos, vel = run_simulation(\n",
    "    \"cubic_spline\",\n",
    "    pos,\n",
    "    vel,\n",
    "    t=0,  # current time of the simulation\n",
    "    tEnd=12,  # time at which simulation ends\n",
    "    dt=0.04,  # timestep\n",
    "    M=2,  # star mass\n",
    "    R=0.75,  # star radius\n",
    "    h=0.1,  # smoothing length\n",
    "    k=0.1,  # equation of state constant\n",
    "    n=1,  # polytropic index\n",
    "    nu=1,  # damping\n",
    "    kernel=cubic_spline,\n",
    "    grad_kernel=cubic_spline_derivative,\n",
    ")"
   ],
   "metadata": {
    "collapsed": false,
    "ExecuteTime": {
     "end_time": "2025-01-25T11:21:37.678022900Z",
     "start_time": "2025-01-25T11:20:42.890597400Z"
    }
   },
   "id": "62e8d8493963987c"
  },
  {
   "cell_type": "markdown",
   "source": [
    "![SegmentLocal](./lab4_gifs/cubic_spline.gif)"
   ],
   "metadata": {
    "collapsed": false
   },
   "id": "2637739d15d92cd1"
  },
  {
   "cell_type": "code",
   "execution_count": 15,
   "outputs": [
    {
     "name": "stderr",
     "output_type": "stream",
     "text": [
      "100%|██████████| 600/600 [02:16<00:00,  4.39it/s]\n",
      "100%|██████████| 600/600 [00:07<00:00, 78.42it/s]\n"
     ]
    }
   ],
   "source": [
    "pos2 = np.concatenate([pos + (1, 1, 0), pos + (-1, -1, 0)])\n",
    "vel2 = np.concatenate([vel + (-3, -1, 0), vel + (3, 1, 0)])\n",
    "\n",
    "pos2 += np.random.normal(size=pos2.shape) * 0.01\n",
    "vel2 += np.random.normal(size=pos2.shape) * 0.1\n",
    "\n",
    "pos3, vel3 = run_simulation(\n",
    "    \"cubic_spline_2_stars\",\n",
    "    pos2,\n",
    "    vel2,\n",
    "    t=0,  # current time of the simulation\n",
    "    tEnd=24,  # time at which simulation ends\n",
    "    dt=0.04,  # timestep\n",
    "    M=3,  # star mass\n",
    "    R=0.75,  # star radius\n",
    "    h=0.1,  # smoothing length\n",
    "    k=0.1,  # equation of state constant\n",
    "    n=0.75,  # polytropic index\n",
    "    nu=0.3,  # damping\n",
    "    kernel=cubic_spline,\n",
    "    grad_kernel=cubic_spline_derivative,\n",
    ")"
   ],
   "metadata": {
    "collapsed": false,
    "ExecuteTime": {
     "end_time": "2025-01-25T11:24:21.492170900Z",
     "start_time": "2025-01-25T11:21:37.681024400Z"
    }
   },
   "id": "687243530e3ee650"
  },
  {
   "cell_type": "markdown",
   "source": [
    "![SegmentLocal](./lab4_gifs/cubic_spline_2_stars.gif)"
   ],
   "metadata": {
    "collapsed": false
   },
   "id": "a0331215b079cf14"
  },
  {
   "cell_type": "markdown",
   "source": [
    "Cubic spline allows for another decent simulation similar to gaussian kernel. The stars are collapsing and circling around one another. We can clearly see that particles of 2 stars interact.\n",
    "\n",
    "The results don't differ siginificantly from gaussian kernel.\n",
    "\n",
    "Result in file `cubic_spline_2_stars.gif`\n",
    "\n",
    "---"
   ],
   "metadata": {
    "collapsed": false
   },
   "id": "3c023f82323f98f"
  },
  {
   "cell_type": "markdown",
   "source": [
    "### Poly6 Kernel and its derivative"
   ],
   "metadata": {
    "collapsed": false
   },
   "id": "7491fb0468a1f564"
  },
  {
   "cell_type": "code",
   "execution_count": 16,
   "outputs": [],
   "source": [
    "def poly6(x, y, z, h):\n",
    "    r = np.sqrt(x**2 + y**2 + z**2)\n",
    "\n",
    "    result = np.zeros(shape=r.shape)\n",
    "\n",
    "    r_h = 315 * (h**2 - r**2) ** 3 / (64 * np.pi * h**9)\n",
    "    r_h_mask = r <= h\n",
    "\n",
    "    result[r_h_mask] = r_h[r_h_mask]\n",
    "\n",
    "    return result\n",
    "\n",
    "\n",
    "def poly6_derivative(x, y, z, h):\n",
    "    r = np.sqrt(x**2 + y**2 + z**2)\n",
    "\n",
    "    n = np.zeros(shape=r.shape)\n",
    "\n",
    "    r_h = -6 * 315 * r * (h**2 - r**2) ** 2 / (64 * np.pi * h**9)\n",
    "    r_h_mask = r <= h\n",
    "\n",
    "    n[r_h_mask] = r_h[r_h_mask]\n",
    "\n",
    "    np.fill_diagonal(r, 1)\n",
    "\n",
    "    wx = n * x / r\n",
    "    wy = n * y / r\n",
    "    wz = n * z / r\n",
    "\n",
    "    return wx, wy, wz"
   ],
   "metadata": {
    "collapsed": false,
    "ExecuteTime": {
     "end_time": "2025-01-25T11:24:21.518909100Z",
     "start_time": "2025-01-25T11:24:21.492170900Z"
    }
   },
   "id": "2056084f903d5e7f"
  },
  {
   "cell_type": "code",
   "execution_count": 17,
   "outputs": [
    {
     "name": "stderr",
     "output_type": "stream",
     "text": [
      "100%|██████████| 300/300 [00:36<00:00,  8.33it/s]\n",
      "100%|██████████| 300/300 [00:03<00:00, 76.02it/s]\n"
     ]
    }
   ],
   "source": [
    "N = 400  # Number of particles\n",
    "pos = np.random.randn(N, 3)\n",
    "# vel = np.zeros(pos.shape)\n",
    "vel = np.random.randn(N, 3)\n",
    "\n",
    "pos, vel = run_simulation(\n",
    "    \"poly6\",\n",
    "    pos,\n",
    "    vel,\n",
    "    t=0,  # current time of the simulation\n",
    "    tEnd=12,  # time at which simulation ends\n",
    "    dt=0.04,  # timestep\n",
    "    M=2,  # star mass\n",
    "    R=0.75,  # star radius\n",
    "    h=0.1,  # smoothing length\n",
    "    k=0.1,  # equation of state constant\n",
    "    n=1,  # polytropic index\n",
    "    nu=1,  # damping\n",
    "    kernel=poly6,\n",
    "    grad_kernel=poly6_derivative,\n",
    ")"
   ],
   "metadata": {
    "collapsed": false,
    "ExecuteTime": {
     "end_time": "2025-01-25T11:25:13.899797100Z",
     "start_time": "2025-01-25T11:24:21.498909300Z"
    }
   },
   "id": "fadc8b3b033ee564"
  },
  {
   "cell_type": "markdown",
   "source": [
    "![SegmentLocal](./lab4_gifs/poly6.gif)"
   ],
   "metadata": {
    "collapsed": false
   },
   "id": "f40cc89a28d929fe"
  },
  {
   "cell_type": "code",
   "execution_count": 18,
   "outputs": [
    {
     "name": "stderr",
     "output_type": "stream",
     "text": [
      "100%|██████████| 600/600 [02:01<00:00,  4.94it/s]\n",
      "100%|██████████| 600/600 [00:07<00:00, 79.09it/s]\n"
     ]
    }
   ],
   "source": [
    "pos2 = np.concatenate([pos + (1, 1, 0), pos + (-1, -1, 0)])\n",
    "vel2 = np.concatenate([vel + (-3, -1, 0), vel + (3, 1, 0)])\n",
    "\n",
    "pos2 += np.random.normal(size=pos2.shape) * 0.01\n",
    "vel2 += np.random.normal(size=pos2.shape) * 0.1\n",
    "\n",
    "pos3, vel3 = run_simulation(\n",
    "    \"poly6_2_stars\",\n",
    "    pos2,\n",
    "    vel2,\n",
    "    t=0,  # current time of the simulation\n",
    "    tEnd=24,  # time at which simulation ends\n",
    "    dt=0.04,  # timestep\n",
    "    M=2,  # star mass\n",
    "    R=0.75,  # star radius\n",
    "    h=0.1,  # smoothing length\n",
    "    k=0.1,  # equation of state constant\n",
    "    n=0.75,  # polytropic index\n",
    "    nu=1,  # damping\n",
    "    kernel=poly6,\n",
    "    grad_kernel=poly6_derivative,\n",
    ")"
   ],
   "metadata": {
    "collapsed": false,
    "ExecuteTime": {
     "end_time": "2025-01-25T11:27:42.357782900Z",
     "start_time": "2025-01-25T11:25:13.899797100Z"
    }
   },
   "id": "ba11733fd56bc3b9"
  },
  {
   "cell_type": "markdown",
   "source": [
    "![SegmentLocal](./lab4_gifs/poly6_2_stars.gif)"
   ],
   "metadata": {
    "collapsed": false
   },
   "id": "43411ae676dd8734"
  },
  {
   "cell_type": "markdown",
   "source": [
    "Even though at first it seemed that using poly6 kernel doesn't affect the density (rho), performing a star collision simulation (`poly6_2_stars.gif`) shows changes in brightness that signify higher function values.\n",
    "\n",
    "We can see bursts of density even after the star is formed. It's possible that the particles in the core keep interacting with each other. \n",
    "Perhaps like in a real star?\n",
    "It's possible that this makes for a good simulation of the star after it is formed.\n",
    "\n",
    "---"
   ],
   "metadata": {
    "collapsed": false
   },
   "id": "c72f67ccfaae76f2"
  },
  {
   "cell_type": "markdown",
   "source": [
    "### Spiky Kernel and its derivative"
   ],
   "metadata": {
    "collapsed": false
   },
   "id": "84f23be766f9e814"
  },
  {
   "cell_type": "code",
   "execution_count": 19,
   "outputs": [],
   "source": [
    "def spiky(x, y, z, h):\n",
    "    r = np.sqrt(x**2 + y**2 + z**2)\n",
    "\n",
    "    result = np.zeros(shape=r.shape)\n",
    "\n",
    "    r_h = 15 * (h - r) ** 3 / (np.pi * h**6)\n",
    "    r_h_mask = r <= h\n",
    "\n",
    "    result[r_h_mask] = r_h[r_h_mask]\n",
    "\n",
    "    return result\n",
    "\n",
    "\n",
    "def spiky_derivative(x, y, z, h):\n",
    "    r = np.sqrt(x**2 + y**2 + z**2)\n",
    "\n",
    "    n = np.zeros(shape=r.shape)\n",
    "\n",
    "    r_h = -45 * r * (h - r) ** 2 / (np.pi * h**6)\n",
    "    r_h_mask = r <= h\n",
    "\n",
    "    n[r_h_mask] = r_h[r_h_mask]\n",
    "\n",
    "    np.fill_diagonal(r, 1)\n",
    "\n",
    "    wx = n * x / r\n",
    "    wy = n * y / r\n",
    "    wz = n * z / r\n",
    "\n",
    "    return wx, wy, wz"
   ],
   "metadata": {
    "collapsed": false,
    "ExecuteTime": {
     "end_time": "2025-01-25T11:27:42.377716800Z",
     "start_time": "2025-01-25T11:27:42.360204900Z"
    }
   },
   "id": "382d25454f37ee79"
  },
  {
   "cell_type": "code",
   "execution_count": 20,
   "outputs": [
    {
     "name": "stderr",
     "output_type": "stream",
     "text": [
      "100%|██████████| 300/300 [00:56<00:00,  5.35it/s]\n",
      "100%|██████████| 300/300 [00:03<00:00, 81.68it/s]\n"
     ]
    }
   ],
   "source": [
    "N = 800  # Number of particles\n",
    "pos = np.random.randn(N, 3)\n",
    "# vel = np.zeros(pos.shape)\n",
    "vel = np.random.randn(N, 3)\n",
    "\n",
    "pos, vel = run_simulation(\n",
    "    \"spiky\",\n",
    "    pos,\n",
    "    vel,\n",
    "    t=0,  # current time of the simulation\n",
    "    tEnd=12,  # time at which simulation ends\n",
    "    dt=0.04,  # timestep\n",
    "    M=10,  # star mass\n",
    "    R=1,  # star radius\n",
    "    h=0.1,  # smoothing length\n",
    "    k=0.1,  # equation of state constant\n",
    "    n=0.75,  # polytropic index\n",
    "    nu=2,  # damping\n",
    "    kernel=spiky,\n",
    "    grad_kernel=spiky_derivative,\n",
    ")"
   ],
   "metadata": {
    "collapsed": false,
    "ExecuteTime": {
     "end_time": "2025-01-25T11:28:51.944408100Z",
     "start_time": "2025-01-25T11:27:42.365716400Z"
    }
   },
   "id": "f77c4b0317c7255a"
  },
  {
   "cell_type": "markdown",
   "source": [
    "![SegmentLocal](./lab4_gifs/spiky.gif)\n",
    "\n",
    "It appears like the particles follow the short path to the center of the mass and don't interact very strongly"
   ],
   "metadata": {
    "collapsed": false
   },
   "id": "ded128f750fe5a92"
  },
  {
   "cell_type": "code",
   "execution_count": 21,
   "outputs": [
    {
     "name": "stderr",
     "output_type": "stream",
     "text": [
      "100%|██████████| 600/600 [06:10<00:00,  1.62it/s]\n",
      "100%|██████████| 600/600 [00:12<00:00, 46.74it/s]\n"
     ]
    }
   ],
   "source": [
    "pos2 = np.concatenate([pos + (1, 1, 0), pos + (-1, -1, 0)])\n",
    "vel2 = np.concatenate([vel + (-3, -1, 0), vel + (3, 1, 0)])\n",
    "\n",
    "pos2 += np.random.normal(size=pos2.shape) * 0.01\n",
    "vel2 += np.random.normal(size=pos2.shape) * 0.1\n",
    "\n",
    "pos3, vel3 = run_simulation(\n",
    "    \"spiky_2_stars\",\n",
    "    pos2,\n",
    "    vel2,\n",
    "    t=0,  # current time of the simulation\n",
    "    tEnd=24,  # time at which simulation ends\n",
    "    dt=0.04,  # timestep\n",
    "    M=3,  # star mass\n",
    "    R=1,  # star radius\n",
    "    h=0.1,  # smoothing length\n",
    "    k=0.1,  # equation of state constant\n",
    "    n=0.75,  # polytropic index\n",
    "    nu=2,  # damping\n",
    "    kernel=spiky,\n",
    "    grad_kernel=spiky_derivative,\n",
    ")"
   ],
   "metadata": {
    "collapsed": false,
    "ExecuteTime": {
     "end_time": "2025-01-25T11:35:44.055790Z",
     "start_time": "2025-01-25T11:28:51.928410400Z"
    }
   },
   "id": "e01b838edc851227"
  },
  {
   "cell_type": "markdown",
   "source": [
    "![SegmentLocal](./lab4_gifs/spiky_2_stars.gif)\n",
    "\n",
    "The use of spiky kernel results in a much different simulation. It seems that the objects don't change their density and move slowly and steadily towards the center of gravity.\n",
    "\n",
    "They behave similarly to clay or dough.\n",
    "\n",
    "This type of kernel doesn't seem to be good for star simulation\n",
    "\n",
    "---\n",
    "\n",
    "### Conclusion\n",
    "\n",
    "We familiarized with Smoothed-Particle-Hydrodynamics Simulations.\n",
    "\n",
    "We checked how different parameters affect the simulations.\n",
    "\n",
    "We looked how different kernels perform in the simulation of star creation and collision of two stars.\n"
   ],
   "metadata": {
    "collapsed": false
   },
   "id": "8fb52baa13a595cd"
  },
  {
   "cell_type": "code",
   "execution_count": null,
   "outputs": [],
   "source": [],
   "metadata": {
    "collapsed": false,
    "ExecuteTime": {
     "start_time": "2025-01-25T11:15:05.705773400Z"
    }
   },
   "id": "73fa31c6af4f3f9e"
  }
 ],
 "metadata": {
  "kernelspec": {
   "display_name": "Python 3 (ipykernel)",
   "language": "python",
   "name": "python3"
  },
  "language_info": {
   "codemirror_mode": {
    "name": "ipython",
    "version": 3
   },
   "file_extension": ".py",
   "mimetype": "text/x-python",
   "name": "python",
   "nbconvert_exporter": "python",
   "pygments_lexer": "ipython3",
   "version": "3.12.4"
  }
 },
 "nbformat": 4,
 "nbformat_minor": 5
}
